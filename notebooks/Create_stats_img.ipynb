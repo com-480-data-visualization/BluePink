{
 "cells": [
  {
   "cell_type": "markdown",
   "metadata": {},
   "source": [
    "# EDA 2"
   ]
  },
  {
   "cell_type": "code",
   "execution_count": 203,
   "metadata": {},
   "outputs": [],
   "source": [
    "import pandas as pd\n",
    "import numpy as np\n",
    "import matplotlib.pyplot as plt\n",
    "import seaborn as sns\n",
    "import math\n",
    "from datetime import datetime, date, time"
   ]
  },
  {
   "cell_type": "code",
   "execution_count": 204,
   "metadata": {},
   "outputs": [],
   "source": [
    "color_plot = '#9ad0ec'"
   ]
  },
  {
   "cell_type": "markdown",
   "metadata": {},
   "source": [
    "## Load data"
   ]
  },
  {
   "cell_type": "code",
   "execution_count": 205,
   "metadata": {},
   "outputs": [
    {
     "name": "stdout",
     "output_type": "stream",
     "text": [
      "(8893453, 40)\n"
     ]
    },
    {
     "data": {
      "text/html": [
       "<div>\n",
       "<style scoped>\n",
       "    .dataframe tbody tr th:only-of-type {\n",
       "        vertical-align: middle;\n",
       "    }\n",
       "\n",
       "    .dataframe tbody tr th {\n",
       "        vertical-align: top;\n",
       "    }\n",
       "\n",
       "    .dataframe thead th {\n",
       "        text-align: right;\n",
       "    }\n",
       "</style>\n",
       "<table border=\"1\" class=\"dataframe\">\n",
       "  <thead>\n",
       "    <tr style=\"text-align: right;\">\n",
       "      <th></th>\n",
       "      <th>CMPLNT_NUM</th>\n",
       "      <th>CMPLNT_FR_DT</th>\n",
       "      <th>CMPLNT_FR_TM</th>\n",
       "      <th>CMPLNT_TO_DT</th>\n",
       "      <th>CMPLNT_TO_TM</th>\n",
       "      <th>ADDR_PCT_CD</th>\n",
       "      <th>RPT_DT</th>\n",
       "      <th>KY_CD</th>\n",
       "      <th>OFNS_DESC</th>\n",
       "      <th>PD_CD</th>\n",
       "      <th>PD_DESC</th>\n",
       "      <th>CRM_ATPT_CPTD_CD</th>\n",
       "      <th>LAW_CAT_CD</th>\n",
       "      <th>BORO_NM</th>\n",
       "      <th>LOC_OF_OCCUR_DESC</th>\n",
       "      <th>PREM_TYP_DESC</th>\n",
       "      <th>JURIS_DESC</th>\n",
       "      <th>JURISDICTION_CODE</th>\n",
       "      <th>PARKS_NM</th>\n",
       "      <th>HADEVELOPT</th>\n",
       "      <th>HOUSING_PSA</th>\n",
       "      <th>X_COORD_CD</th>\n",
       "      <th>Y_COORD_CD</th>\n",
       "      <th>SUSP_AGE_GROUP</th>\n",
       "      <th>SUSP_RACE</th>\n",
       "      <th>SUSP_SEX</th>\n",
       "      <th>TRANSIT_DISTRICT</th>\n",
       "      <th>Latitude</th>\n",
       "      <th>Longitude</th>\n",
       "      <th>Lat_Lon</th>\n",
       "      <th>PATROL_BORO</th>\n",
       "      <th>STATION_NAME</th>\n",
       "      <th>VIC_AGE_GROUP</th>\n",
       "      <th>VIC_RACE</th>\n",
       "      <th>VIC_SEX</th>\n",
       "      <th>geometry</th>\n",
       "      <th>District_Code</th>\n",
       "      <th>District_name</th>\n",
       "      <th>case_duration</th>\n",
       "      <th>year_begin</th>\n",
       "    </tr>\n",
       "  </thead>\n",
       "  <tbody>\n",
       "    <tr>\n",
       "      <th>0</th>\n",
       "      <td>39468181</td>\n",
       "      <td>2008-02-20</td>\n",
       "      <td>07:00:00</td>\n",
       "      <td>2008-02-23</td>\n",
       "      <td>08:00:00</td>\n",
       "      <td>88.0</td>\n",
       "      <td>2008-02-23</td>\n",
       "      <td>107</td>\n",
       "      <td>BURGLARY</td>\n",
       "      <td>221.0</td>\n",
       "      <td>BURGLARY,RESIDENCE,DAY</td>\n",
       "      <td>COMPLETED</td>\n",
       "      <td>FELONY</td>\n",
       "      <td>BROOKLYN</td>\n",
       "      <td>INSIDE</td>\n",
       "      <td>RESIDENCE - APT. HOUSE</td>\n",
       "      <td>N.Y. POLICE DEPT</td>\n",
       "      <td>0</td>\n",
       "      <td>(null)</td>\n",
       "      <td>(null)</td>\n",
       "      <td>(null)</td>\n",
       "      <td>991818.0</td>\n",
       "      <td>191560.0</td>\n",
       "      <td>(null)</td>\n",
       "      <td>UNKNOWN</td>\n",
       "      <td>(null)</td>\n",
       "      <td>NaN</td>\n",
       "      <td>40.692464</td>\n",
       "      <td>-73.972708</td>\n",
       "      <td>(40.692464, -73.972708)</td>\n",
       "      <td>PATROL BORO BKLYN NORTH</td>\n",
       "      <td>(null)</td>\n",
       "      <td>25-44</td>\n",
       "      <td>WHITE</td>\n",
       "      <td>F</td>\n",
       "      <td>POINT (-73.972708 40.692464)</td>\n",
       "      <td>302.0</td>\n",
       "      <td>Fort Greene/Brooklyn Hts</td>\n",
       "      <td>3.0</td>\n",
       "      <td>2008</td>\n",
       "    </tr>\n",
       "    <tr>\n",
       "      <th>1</th>\n",
       "      <td>50539499</td>\n",
       "      <td>2008-08-21</td>\n",
       "      <td>22:00:00</td>\n",
       "      <td>2008-08-21</td>\n",
       "      <td>23:00:00</td>\n",
       "      <td>19.0</td>\n",
       "      <td>2008-08-22</td>\n",
       "      <td>109</td>\n",
       "      <td>GRAND LARCENY</td>\n",
       "      <td>438.0</td>\n",
       "      <td>LARCENY,GRAND FROM BUILDING (NON-RESIDENCE) UNATTENDED</td>\n",
       "      <td>COMPLETED</td>\n",
       "      <td>FELONY</td>\n",
       "      <td>MANHATTAN</td>\n",
       "      <td>FRONT OF</td>\n",
       "      <td>BAR/NIGHT CLUB</td>\n",
       "      <td>N.Y. POLICE DEPT</td>\n",
       "      <td>0</td>\n",
       "      <td>(null)</td>\n",
       "      <td>(null)</td>\n",
       "      <td>(null)</td>\n",
       "      <td>997152.0</td>\n",
       "      <td>220300.0</td>\n",
       "      <td>(null)</td>\n",
       "      <td>(null)</td>\n",
       "      <td>(null)</td>\n",
       "      <td>NaN</td>\n",
       "      <td>40.771341</td>\n",
       "      <td>-73.953418</td>\n",
       "      <td>(40.771341, -73.953418)</td>\n",
       "      <td>PATROL BORO MAN NORTH</td>\n",
       "      <td>(null)</td>\n",
       "      <td>45-64</td>\n",
       "      <td>WHITE HISPANIC</td>\n",
       "      <td>F</td>\n",
       "      <td>POINT (-73.953418 40.771341)</td>\n",
       "      <td>108.0</td>\n",
       "      <td>Upper East Side</td>\n",
       "      <td>0.0</td>\n",
       "      <td>2008</td>\n",
       "    </tr>\n",
       "    <tr>\n",
       "      <th>2</th>\n",
       "      <td>45223390</td>\n",
       "      <td>2008-04-03</td>\n",
       "      <td>03:35:00</td>\n",
       "      <td>2008-04-03</td>\n",
       "      <td>03:50:00</td>\n",
       "      <td>77.0</td>\n",
       "      <td>2008-04-03</td>\n",
       "      <td>106</td>\n",
       "      <td>FELONY ASSAULT</td>\n",
       "      <td>109.0</td>\n",
       "      <td>ASSAULT 2,1,UNCLASSIFIED</td>\n",
       "      <td>COMPLETED</td>\n",
       "      <td>FELONY</td>\n",
       "      <td>BROOKLYN</td>\n",
       "      <td>INSIDE</td>\n",
       "      <td>RESIDENCE - PUBLIC HOUSING</td>\n",
       "      <td>N.Y. HOUSING POLICE</td>\n",
       "      <td>2</td>\n",
       "      <td>(null)</td>\n",
       "      <td>(null)</td>\n",
       "      <td>3360</td>\n",
       "      <td>1004579.0</td>\n",
       "      <td>183837.0</td>\n",
       "      <td>(null)</td>\n",
       "      <td>(null)</td>\n",
       "      <td>(null)</td>\n",
       "      <td>NaN</td>\n",
       "      <td>40.671245</td>\n",
       "      <td>-73.926713</td>\n",
       "      <td>(40.671245, -73.926713)</td>\n",
       "      <td>PATROL BORO BKLYN NORTH</td>\n",
       "      <td>(null)</td>\n",
       "      <td>25-44</td>\n",
       "      <td>BLACK</td>\n",
       "      <td>F</td>\n",
       "      <td>POINT (-73.926713 40.671245)</td>\n",
       "      <td>308.0</td>\n",
       "      <td>Crown Heights North</td>\n",
       "      <td>0.0</td>\n",
       "      <td>2008</td>\n",
       "    </tr>\n",
       "    <tr>\n",
       "      <th>3</th>\n",
       "      <td>50594658</td>\n",
       "      <td>2008-08-19</td>\n",
       "      <td>09:00:00</td>\n",
       "      <td>NaN</td>\n",
       "      <td>(null)</td>\n",
       "      <td>32.0</td>\n",
       "      <td>2008-08-27</td>\n",
       "      <td>341</td>\n",
       "      <td>PETIT LARCENY</td>\n",
       "      <td>349.0</td>\n",
       "      <td>LARCENY,PETIT OF LICENSE PLATE</td>\n",
       "      <td>COMPLETED</td>\n",
       "      <td>MISDEMEANOR</td>\n",
       "      <td>MANHATTAN</td>\n",
       "      <td>FRONT OF</td>\n",
       "      <td>STREET</td>\n",
       "      <td>N.Y. POLICE DEPT</td>\n",
       "      <td>0</td>\n",
       "      <td>(null)</td>\n",
       "      <td>(null)</td>\n",
       "      <td>(null)</td>\n",
       "      <td>999965.0</td>\n",
       "      <td>235630.0</td>\n",
       "      <td>(null)</td>\n",
       "      <td>UNKNOWN</td>\n",
       "      <td>(null)</td>\n",
       "      <td>NaN</td>\n",
       "      <td>40.813412</td>\n",
       "      <td>-73.943226</td>\n",
       "      <td>(40.813412, -73.943226)</td>\n",
       "      <td>PATROL BORO MAN NORTH</td>\n",
       "      <td>(null)</td>\n",
       "      <td>(null)</td>\n",
       "      <td>UNKNOWN</td>\n",
       "      <td>M</td>\n",
       "      <td>POINT (-73.943226 40.813412)</td>\n",
       "      <td>110.0</td>\n",
       "      <td>Central Harlem</td>\n",
       "      <td>inf</td>\n",
       "      <td>2008</td>\n",
       "    </tr>\n",
       "    <tr>\n",
       "      <th>4</th>\n",
       "      <td>44451016</td>\n",
       "      <td>2008-03-10</td>\n",
       "      <td>22:00:00</td>\n",
       "      <td>2008-03-10</td>\n",
       "      <td>22:10:00</td>\n",
       "      <td>67.0</td>\n",
       "      <td>2008-03-11</td>\n",
       "      <td>105</td>\n",
       "      <td>ROBBERY</td>\n",
       "      <td>397.0</td>\n",
       "      <td>ROBBERY,OPEN AREA UNCLASSIFIED</td>\n",
       "      <td>COMPLETED</td>\n",
       "      <td>FELONY</td>\n",
       "      <td>BROOKLYN</td>\n",
       "      <td>FRONT OF</td>\n",
       "      <td>STREET</td>\n",
       "      <td>N.Y. POLICE DEPT</td>\n",
       "      <td>0</td>\n",
       "      <td>(null)</td>\n",
       "      <td>(null)</td>\n",
       "      <td>(null)</td>\n",
       "      <td>999602.0</td>\n",
       "      <td>176145.0</td>\n",
       "      <td>&lt;18</td>\n",
       "      <td>BLACK</td>\n",
       "      <td>M</td>\n",
       "      <td>NaN</td>\n",
       "      <td>40.650142</td>\n",
       "      <td>-73.944674</td>\n",
       "      <td>(40.650142, -73.944674)</td>\n",
       "      <td>PATROL BORO BKLYN SOUTH</td>\n",
       "      <td>(null)</td>\n",
       "      <td>25-44</td>\n",
       "      <td>BLACK</td>\n",
       "      <td>M</td>\n",
       "      <td>POINT (-73.944674 40.650142)</td>\n",
       "      <td>317.0</td>\n",
       "      <td>East Flatbush</td>\n",
       "      <td>0.0</td>\n",
       "      <td>2008</td>\n",
       "    </tr>\n",
       "  </tbody>\n",
       "</table>\n",
       "</div>"
      ],
      "text/plain": [
       "  CMPLNT_NUM CMPLNT_FR_DT CMPLNT_FR_TM CMPLNT_TO_DT CMPLNT_TO_TM  ADDR_PCT_CD  \\\n",
       "0   39468181   2008-02-20     07:00:00   2008-02-23     08:00:00         88.0   \n",
       "1   50539499   2008-08-21     22:00:00   2008-08-21     23:00:00         19.0   \n",
       "2   45223390   2008-04-03     03:35:00   2008-04-03     03:50:00         77.0   \n",
       "3   50594658   2008-08-19     09:00:00          NaN       (null)         32.0   \n",
       "4   44451016   2008-03-10     22:00:00   2008-03-10     22:10:00         67.0   \n",
       "\n",
       "       RPT_DT  KY_CD       OFNS_DESC  PD_CD  \\\n",
       "0  2008-02-23    107        BURGLARY  221.0   \n",
       "1  2008-08-22    109   GRAND LARCENY  438.0   \n",
       "2  2008-04-03    106  FELONY ASSAULT  109.0   \n",
       "3  2008-08-27    341   PETIT LARCENY  349.0   \n",
       "4  2008-03-11    105         ROBBERY  397.0   \n",
       "\n",
       "                                                  PD_DESC CRM_ATPT_CPTD_CD  \\\n",
       "0                                  BURGLARY,RESIDENCE,DAY        COMPLETED   \n",
       "1  LARCENY,GRAND FROM BUILDING (NON-RESIDENCE) UNATTENDED        COMPLETED   \n",
       "2                                ASSAULT 2,1,UNCLASSIFIED        COMPLETED   \n",
       "3                          LARCENY,PETIT OF LICENSE PLATE        COMPLETED   \n",
       "4                          ROBBERY,OPEN AREA UNCLASSIFIED        COMPLETED   \n",
       "\n",
       "    LAW_CAT_CD    BORO_NM LOC_OF_OCCUR_DESC               PREM_TYP_DESC  \\\n",
       "0       FELONY   BROOKLYN            INSIDE      RESIDENCE - APT. HOUSE   \n",
       "1       FELONY  MANHATTAN          FRONT OF              BAR/NIGHT CLUB   \n",
       "2       FELONY   BROOKLYN            INSIDE  RESIDENCE - PUBLIC HOUSING   \n",
       "3  MISDEMEANOR  MANHATTAN          FRONT OF                      STREET   \n",
       "4       FELONY   BROOKLYN          FRONT OF                      STREET   \n",
       "\n",
       "            JURIS_DESC  JURISDICTION_CODE PARKS_NM HADEVELOPT HOUSING_PSA  \\\n",
       "0     N.Y. POLICE DEPT                  0   (null)     (null)      (null)   \n",
       "1     N.Y. POLICE DEPT                  0   (null)     (null)      (null)   \n",
       "2  N.Y. HOUSING POLICE                  2   (null)     (null)        3360   \n",
       "3     N.Y. POLICE DEPT                  0   (null)     (null)      (null)   \n",
       "4     N.Y. POLICE DEPT                  0   (null)     (null)      (null)   \n",
       "\n",
       "   X_COORD_CD  Y_COORD_CD SUSP_AGE_GROUP SUSP_RACE SUSP_SEX  TRANSIT_DISTRICT  \\\n",
       "0    991818.0    191560.0         (null)   UNKNOWN   (null)               NaN   \n",
       "1    997152.0    220300.0         (null)    (null)   (null)               NaN   \n",
       "2   1004579.0    183837.0         (null)    (null)   (null)               NaN   \n",
       "3    999965.0    235630.0         (null)   UNKNOWN   (null)               NaN   \n",
       "4    999602.0    176145.0            <18     BLACK        M               NaN   \n",
       "\n",
       "    Latitude  Longitude                  Lat_Lon              PATROL_BORO  \\\n",
       "0  40.692464 -73.972708  (40.692464, -73.972708)  PATROL BORO BKLYN NORTH   \n",
       "1  40.771341 -73.953418  (40.771341, -73.953418)    PATROL BORO MAN NORTH   \n",
       "2  40.671245 -73.926713  (40.671245, -73.926713)  PATROL BORO BKLYN NORTH   \n",
       "3  40.813412 -73.943226  (40.813412, -73.943226)    PATROL BORO MAN NORTH   \n",
       "4  40.650142 -73.944674  (40.650142, -73.944674)  PATROL BORO BKLYN SOUTH   \n",
       "\n",
       "  STATION_NAME VIC_AGE_GROUP        VIC_RACE VIC_SEX  \\\n",
       "0       (null)         25-44           WHITE       F   \n",
       "1       (null)         45-64  WHITE HISPANIC       F   \n",
       "2       (null)         25-44           BLACK       F   \n",
       "3       (null)        (null)         UNKNOWN       M   \n",
       "4       (null)         25-44           BLACK       M   \n",
       "\n",
       "                       geometry  District_Code             District_name  \\\n",
       "0  POINT (-73.972708 40.692464)          302.0  Fort Greene/Brooklyn Hts   \n",
       "1  POINT (-73.953418 40.771341)          108.0           Upper East Side   \n",
       "2  POINT (-73.926713 40.671245)          308.0       Crown Heights North   \n",
       "3  POINT (-73.943226 40.813412)          110.0            Central Harlem   \n",
       "4  POINT (-73.944674 40.650142)          317.0             East Flatbush   \n",
       "\n",
       "   case_duration  year_begin  \n",
       "0            3.0        2008  \n",
       "1            0.0        2008  \n",
       "2            0.0        2008  \n",
       "3            inf        2008  \n",
       "4            0.0        2008  "
      ]
     },
     "execution_count": 205,
     "metadata": {},
     "output_type": "execute_result"
    }
   ],
   "source": [
    "data_folder='../../data/'\n",
    "df = pd.read_csv(data_folder + 'clean_complaint_data.csv', dtype={'CMPLNT_NUM': str})\n",
    "pd.set_option('display.max_columns', None)\n",
    "print(df.shape)\n",
    "\n",
    "df.head()\n"
   ]
  },
  {
   "cell_type": "code",
   "execution_count": 206,
   "metadata": {},
   "outputs": [
    {
     "name": "stdout",
     "output_type": "stream",
     "text": [
      "(8090055, 40)\n"
     ]
    },
    {
     "data": {
      "text/html": [
       "<div>\n",
       "<style scoped>\n",
       "    .dataframe tbody tr th:only-of-type {\n",
       "        vertical-align: middle;\n",
       "    }\n",
       "\n",
       "    .dataframe tbody tr th {\n",
       "        vertical-align: top;\n",
       "    }\n",
       "\n",
       "    .dataframe thead th {\n",
       "        text-align: right;\n",
       "    }\n",
       "</style>\n",
       "<table border=\"1\" class=\"dataframe\">\n",
       "  <thead>\n",
       "    <tr style=\"text-align: right;\">\n",
       "      <th></th>\n",
       "      <th>CMPLNT_NUM</th>\n",
       "      <th>CMPLNT_FR_DT</th>\n",
       "      <th>CMPLNT_FR_TM</th>\n",
       "      <th>CMPLNT_TO_DT</th>\n",
       "      <th>CMPLNT_TO_TM</th>\n",
       "      <th>ADDR_PCT_CD</th>\n",
       "      <th>RPT_DT</th>\n",
       "      <th>KY_CD</th>\n",
       "      <th>OFNS_DESC</th>\n",
       "      <th>PD_CD</th>\n",
       "      <th>PD_DESC</th>\n",
       "      <th>CRM_ATPT_CPTD_CD</th>\n",
       "      <th>LAW_CAT_CD</th>\n",
       "      <th>BORO_NM</th>\n",
       "      <th>LOC_OF_OCCUR_DESC</th>\n",
       "      <th>PREM_TYP_DESC</th>\n",
       "      <th>JURIS_DESC</th>\n",
       "      <th>JURISDICTION_CODE</th>\n",
       "      <th>PARKS_NM</th>\n",
       "      <th>HADEVELOPT</th>\n",
       "      <th>HOUSING_PSA</th>\n",
       "      <th>X_COORD_CD</th>\n",
       "      <th>Y_COORD_CD</th>\n",
       "      <th>SUSP_AGE_GROUP</th>\n",
       "      <th>SUSP_RACE</th>\n",
       "      <th>SUSP_SEX</th>\n",
       "      <th>TRANSIT_DISTRICT</th>\n",
       "      <th>Latitude</th>\n",
       "      <th>Longitude</th>\n",
       "      <th>Lat_Lon</th>\n",
       "      <th>PATROL_BORO</th>\n",
       "      <th>STATION_NAME</th>\n",
       "      <th>VIC_AGE_GROUP</th>\n",
       "      <th>VIC_RACE</th>\n",
       "      <th>VIC_SEX</th>\n",
       "      <th>geometry</th>\n",
       "      <th>District_Code</th>\n",
       "      <th>District_name</th>\n",
       "      <th>case_duration</th>\n",
       "      <th>year_begin</th>\n",
       "    </tr>\n",
       "  </thead>\n",
       "  <tbody>\n",
       "    <tr>\n",
       "      <th>0</th>\n",
       "      <td>39468181</td>\n",
       "      <td>2008-02-20</td>\n",
       "      <td>07:00:00</td>\n",
       "      <td>2008-02-23</td>\n",
       "      <td>08:00:00</td>\n",
       "      <td>88.0</td>\n",
       "      <td>2008-02-23</td>\n",
       "      <td>107</td>\n",
       "      <td>Breaking &amp; Entering</td>\n",
       "      <td>221.0</td>\n",
       "      <td>BURGLARY,RESIDENCE,DAY</td>\n",
       "      <td>COMPLETED</td>\n",
       "      <td>FELONY</td>\n",
       "      <td>BROOKLYN</td>\n",
       "      <td>INSIDE</td>\n",
       "      <td>RESIDENCE - APT. HOUSE</td>\n",
       "      <td>N.Y. POLICE DEPT</td>\n",
       "      <td>0</td>\n",
       "      <td>(null)</td>\n",
       "      <td>(null)</td>\n",
       "      <td>(null)</td>\n",
       "      <td>991818.0</td>\n",
       "      <td>191560.0</td>\n",
       "      <td>(null)</td>\n",
       "      <td>UNKNOWN</td>\n",
       "      <td>(null)</td>\n",
       "      <td>NaN</td>\n",
       "      <td>40.692464</td>\n",
       "      <td>-73.972708</td>\n",
       "      <td>(40.692464, -73.972708)</td>\n",
       "      <td>PATROL BORO BKLYN NORTH</td>\n",
       "      <td>(null)</td>\n",
       "      <td>25-44</td>\n",
       "      <td>WHITE</td>\n",
       "      <td>F</td>\n",
       "      <td>POINT (-73.972708 40.692464)</td>\n",
       "      <td>302.0</td>\n",
       "      <td>Fort Greene/Brooklyn Hts</td>\n",
       "      <td>3.0</td>\n",
       "      <td>2008</td>\n",
       "    </tr>\n",
       "    <tr>\n",
       "      <th>1</th>\n",
       "      <td>50539499</td>\n",
       "      <td>2008-08-21</td>\n",
       "      <td>22:00:00</td>\n",
       "      <td>2008-08-21</td>\n",
       "      <td>23:00:00</td>\n",
       "      <td>19.0</td>\n",
       "      <td>2008-08-22</td>\n",
       "      <td>109</td>\n",
       "      <td>Major Theft</td>\n",
       "      <td>438.0</td>\n",
       "      <td>LARCENY,GRAND FROM BUILDING (NON-RESIDENCE) UNATTENDED</td>\n",
       "      <td>COMPLETED</td>\n",
       "      <td>FELONY</td>\n",
       "      <td>MANHATTAN</td>\n",
       "      <td>FRONT OF</td>\n",
       "      <td>BAR/NIGHT CLUB</td>\n",
       "      <td>N.Y. POLICE DEPT</td>\n",
       "      <td>0</td>\n",
       "      <td>(null)</td>\n",
       "      <td>(null)</td>\n",
       "      <td>(null)</td>\n",
       "      <td>997152.0</td>\n",
       "      <td>220300.0</td>\n",
       "      <td>(null)</td>\n",
       "      <td>(null)</td>\n",
       "      <td>(null)</td>\n",
       "      <td>NaN</td>\n",
       "      <td>40.771341</td>\n",
       "      <td>-73.953418</td>\n",
       "      <td>(40.771341, -73.953418)</td>\n",
       "      <td>PATROL BORO MAN NORTH</td>\n",
       "      <td>(null)</td>\n",
       "      <td>45-64</td>\n",
       "      <td>WHITE HISPANIC</td>\n",
       "      <td>F</td>\n",
       "      <td>POINT (-73.953418 40.771341)</td>\n",
       "      <td>108.0</td>\n",
       "      <td>Upper East Side</td>\n",
       "      <td>0.0</td>\n",
       "      <td>2008</td>\n",
       "    </tr>\n",
       "    <tr>\n",
       "      <th>2</th>\n",
       "      <td>45223390</td>\n",
       "      <td>2008-04-03</td>\n",
       "      <td>03:35:00</td>\n",
       "      <td>2008-04-03</td>\n",
       "      <td>03:50:00</td>\n",
       "      <td>77.0</td>\n",
       "      <td>2008-04-03</td>\n",
       "      <td>106</td>\n",
       "      <td>Physical Assault</td>\n",
       "      <td>109.0</td>\n",
       "      <td>ASSAULT 2,1,UNCLASSIFIED</td>\n",
       "      <td>COMPLETED</td>\n",
       "      <td>FELONY</td>\n",
       "      <td>BROOKLYN</td>\n",
       "      <td>INSIDE</td>\n",
       "      <td>RESIDENCE - PUBLIC HOUSING</td>\n",
       "      <td>N.Y. HOUSING POLICE</td>\n",
       "      <td>2</td>\n",
       "      <td>(null)</td>\n",
       "      <td>(null)</td>\n",
       "      <td>3360</td>\n",
       "      <td>1004579.0</td>\n",
       "      <td>183837.0</td>\n",
       "      <td>(null)</td>\n",
       "      <td>(null)</td>\n",
       "      <td>(null)</td>\n",
       "      <td>NaN</td>\n",
       "      <td>40.671245</td>\n",
       "      <td>-73.926713</td>\n",
       "      <td>(40.671245, -73.926713)</td>\n",
       "      <td>PATROL BORO BKLYN NORTH</td>\n",
       "      <td>(null)</td>\n",
       "      <td>25-44</td>\n",
       "      <td>BLACK</td>\n",
       "      <td>F</td>\n",
       "      <td>POINT (-73.926713 40.671245)</td>\n",
       "      <td>308.0</td>\n",
       "      <td>Crown Heights North</td>\n",
       "      <td>0.0</td>\n",
       "      <td>2008</td>\n",
       "    </tr>\n",
       "    <tr>\n",
       "      <th>3</th>\n",
       "      <td>50594658</td>\n",
       "      <td>2008-08-19</td>\n",
       "      <td>09:00:00</td>\n",
       "      <td>NaN</td>\n",
       "      <td>(null)</td>\n",
       "      <td>32.0</td>\n",
       "      <td>2008-08-27</td>\n",
       "      <td>341</td>\n",
       "      <td>Minor Theft</td>\n",
       "      <td>349.0</td>\n",
       "      <td>LARCENY,PETIT OF LICENSE PLATE</td>\n",
       "      <td>COMPLETED</td>\n",
       "      <td>MISDEMEANOR</td>\n",
       "      <td>MANHATTAN</td>\n",
       "      <td>FRONT OF</td>\n",
       "      <td>STREET</td>\n",
       "      <td>N.Y. POLICE DEPT</td>\n",
       "      <td>0</td>\n",
       "      <td>(null)</td>\n",
       "      <td>(null)</td>\n",
       "      <td>(null)</td>\n",
       "      <td>999965.0</td>\n",
       "      <td>235630.0</td>\n",
       "      <td>(null)</td>\n",
       "      <td>UNKNOWN</td>\n",
       "      <td>(null)</td>\n",
       "      <td>NaN</td>\n",
       "      <td>40.813412</td>\n",
       "      <td>-73.943226</td>\n",
       "      <td>(40.813412, -73.943226)</td>\n",
       "      <td>PATROL BORO MAN NORTH</td>\n",
       "      <td>(null)</td>\n",
       "      <td>(null)</td>\n",
       "      <td>UNKNOWN</td>\n",
       "      <td>M</td>\n",
       "      <td>POINT (-73.943226 40.813412)</td>\n",
       "      <td>110.0</td>\n",
       "      <td>Central Harlem</td>\n",
       "      <td>inf</td>\n",
       "      <td>2008</td>\n",
       "    </tr>\n",
       "    <tr>\n",
       "      <th>5</th>\n",
       "      <td>49918184</td>\n",
       "      <td>2008-08-08</td>\n",
       "      <td>01:30:00</td>\n",
       "      <td>2008-08-08</td>\n",
       "      <td>01:34:00</td>\n",
       "      <td>34.0</td>\n",
       "      <td>2008-08-08</td>\n",
       "      <td>355</td>\n",
       "      <td>Physical Assault</td>\n",
       "      <td>115.0</td>\n",
       "      <td>RECKLESS ENDANGERMENT 2</td>\n",
       "      <td>COMPLETED</td>\n",
       "      <td>MISDEMEANOR</td>\n",
       "      <td>MANHATTAN</td>\n",
       "      <td>OPPOSITE OF</td>\n",
       "      <td>STREET</td>\n",
       "      <td>N.Y. POLICE DEPT</td>\n",
       "      <td>0</td>\n",
       "      <td>(null)</td>\n",
       "      <td>(null)</td>\n",
       "      <td>(null)</td>\n",
       "      <td>1003778.0</td>\n",
       "      <td>250869.0</td>\n",
       "      <td>(null)</td>\n",
       "      <td>(null)</td>\n",
       "      <td>(null)</td>\n",
       "      <td>NaN</td>\n",
       "      <td>40.855233</td>\n",
       "      <td>-73.929406</td>\n",
       "      <td>(40.855233, -73.929406)</td>\n",
       "      <td>PATROL BORO MAN NORTH</td>\n",
       "      <td>(null)</td>\n",
       "      <td>(null)</td>\n",
       "      <td>UNKNOWN</td>\n",
       "      <td>E</td>\n",
       "      <td>POINT (-73.929406 40.855233)</td>\n",
       "      <td>112.0</td>\n",
       "      <td>Washington Heights</td>\n",
       "      <td>0.0</td>\n",
       "      <td>2008</td>\n",
       "    </tr>\n",
       "  </tbody>\n",
       "</table>\n",
       "</div>"
      ],
      "text/plain": [
       "  CMPLNT_NUM CMPLNT_FR_DT CMPLNT_FR_TM CMPLNT_TO_DT CMPLNT_TO_TM  ADDR_PCT_CD  \\\n",
       "0   39468181   2008-02-20     07:00:00   2008-02-23     08:00:00         88.0   \n",
       "1   50539499   2008-08-21     22:00:00   2008-08-21     23:00:00         19.0   \n",
       "2   45223390   2008-04-03     03:35:00   2008-04-03     03:50:00         77.0   \n",
       "3   50594658   2008-08-19     09:00:00          NaN       (null)         32.0   \n",
       "5   49918184   2008-08-08     01:30:00   2008-08-08     01:34:00         34.0   \n",
       "\n",
       "       RPT_DT  KY_CD            OFNS_DESC  PD_CD  \\\n",
       "0  2008-02-23    107  Breaking & Entering  221.0   \n",
       "1  2008-08-22    109          Major Theft  438.0   \n",
       "2  2008-04-03    106     Physical Assault  109.0   \n",
       "3  2008-08-27    341          Minor Theft  349.0   \n",
       "5  2008-08-08    355     Physical Assault  115.0   \n",
       "\n",
       "                                                  PD_DESC CRM_ATPT_CPTD_CD  \\\n",
       "0                                  BURGLARY,RESIDENCE,DAY        COMPLETED   \n",
       "1  LARCENY,GRAND FROM BUILDING (NON-RESIDENCE) UNATTENDED        COMPLETED   \n",
       "2                                ASSAULT 2,1,UNCLASSIFIED        COMPLETED   \n",
       "3                          LARCENY,PETIT OF LICENSE PLATE        COMPLETED   \n",
       "5                                 RECKLESS ENDANGERMENT 2        COMPLETED   \n",
       "\n",
       "    LAW_CAT_CD    BORO_NM LOC_OF_OCCUR_DESC               PREM_TYP_DESC  \\\n",
       "0       FELONY   BROOKLYN            INSIDE      RESIDENCE - APT. HOUSE   \n",
       "1       FELONY  MANHATTAN          FRONT OF              BAR/NIGHT CLUB   \n",
       "2       FELONY   BROOKLYN            INSIDE  RESIDENCE - PUBLIC HOUSING   \n",
       "3  MISDEMEANOR  MANHATTAN          FRONT OF                      STREET   \n",
       "5  MISDEMEANOR  MANHATTAN       OPPOSITE OF                      STREET   \n",
       "\n",
       "            JURIS_DESC  JURISDICTION_CODE PARKS_NM HADEVELOPT HOUSING_PSA  \\\n",
       "0     N.Y. POLICE DEPT                  0   (null)     (null)      (null)   \n",
       "1     N.Y. POLICE DEPT                  0   (null)     (null)      (null)   \n",
       "2  N.Y. HOUSING POLICE                  2   (null)     (null)        3360   \n",
       "3     N.Y. POLICE DEPT                  0   (null)     (null)      (null)   \n",
       "5     N.Y. POLICE DEPT                  0   (null)     (null)      (null)   \n",
       "\n",
       "   X_COORD_CD  Y_COORD_CD SUSP_AGE_GROUP SUSP_RACE SUSP_SEX  TRANSIT_DISTRICT  \\\n",
       "0    991818.0    191560.0         (null)   UNKNOWN   (null)               NaN   \n",
       "1    997152.0    220300.0         (null)    (null)   (null)               NaN   \n",
       "2   1004579.0    183837.0         (null)    (null)   (null)               NaN   \n",
       "3    999965.0    235630.0         (null)   UNKNOWN   (null)               NaN   \n",
       "5   1003778.0    250869.0         (null)    (null)   (null)               NaN   \n",
       "\n",
       "    Latitude  Longitude                  Lat_Lon              PATROL_BORO  \\\n",
       "0  40.692464 -73.972708  (40.692464, -73.972708)  PATROL BORO BKLYN NORTH   \n",
       "1  40.771341 -73.953418  (40.771341, -73.953418)    PATROL BORO MAN NORTH   \n",
       "2  40.671245 -73.926713  (40.671245, -73.926713)  PATROL BORO BKLYN NORTH   \n",
       "3  40.813412 -73.943226  (40.813412, -73.943226)    PATROL BORO MAN NORTH   \n",
       "5  40.855233 -73.929406  (40.855233, -73.929406)    PATROL BORO MAN NORTH   \n",
       "\n",
       "  STATION_NAME VIC_AGE_GROUP        VIC_RACE VIC_SEX  \\\n",
       "0       (null)         25-44           WHITE       F   \n",
       "1       (null)         45-64  WHITE HISPANIC       F   \n",
       "2       (null)         25-44           BLACK       F   \n",
       "3       (null)        (null)         UNKNOWN       M   \n",
       "5       (null)        (null)         UNKNOWN       E   \n",
       "\n",
       "                       geometry  District_Code             District_name  \\\n",
       "0  POINT (-73.972708 40.692464)          302.0  Fort Greene/Brooklyn Hts   \n",
       "1  POINT (-73.953418 40.771341)          108.0           Upper East Side   \n",
       "2  POINT (-73.926713 40.671245)          308.0       Crown Heights North   \n",
       "3  POINT (-73.943226 40.813412)          110.0            Central Harlem   \n",
       "5  POINT (-73.929406 40.855233)          112.0        Washington Heights   \n",
       "\n",
       "   case_duration  year_begin  \n",
       "0            3.0        2008  \n",
       "1            0.0        2008  \n",
       "2            0.0        2008  \n",
       "3            inf        2008  \n",
       "5            0.0        2008  "
      ]
     },
     "execution_count": 206,
     "metadata": {},
     "output_type": "execute_result"
    }
   ],
   "source": [
    "# --- Larceny ---\n",
    "df['OFNS_DESC'] = df['OFNS_DESC'].replace('OTHER OFFENSES RELATED TO THEF', 'PETIT LARCENY')\n",
    "df['OFNS_DESC'] = df['OFNS_DESC'].replace('GRAND LARCENY OF MOTOR VEHICLE', 'GRAND LARCENY')\n",
    "df['OFNS_DESC'] = df['OFNS_DESC'].replace('PETIT LARCENY OF MOTOR VEHICLE', 'PETIT LARCENY')\n",
    "\n",
    "# --- Harassment ---\n",
    "df['OFNS_DESC'] = df['OFNS_DESC'].replace('HARRASSMENT 2', 'HARASSMENT')\n",
    "df['OFNS_DESC'] = df['OFNS_DESC'].replace('DISORDERLY CONDUCT', 'HARASSMENT')\n",
    "df['OFNS_DESC'] = df['OFNS_DESC'].replace('JOSTLING', 'HARASSMENT')\n",
    "df['OFNS_DESC'] = df['OFNS_DESC'].replace('LOITERING/DEVIATE SEX', 'HARASSMENT')\n",
    "df['OFNS_DESC'] = df['OFNS_DESC'].replace('FRAUDULENT ACCOSTING', 'HARASSMENT')\n",
    "\n",
    "# --- Assault ---\n",
    "df['OFNS_DESC'] = df['OFNS_DESC'].replace('FELONY ASSAULT', 'ASSAULT')\n",
    "df['OFNS_DESC'] = df['OFNS_DESC'].replace('OFFENSES AGAINST THE PERSON', 'ASSAULT')\n",
    "df['OFNS_DESC'] = df['OFNS_DESC'].replace('ASSAULT 3 & RELATED OFFENSES', 'ASSAULT')\n",
    "\n",
    "# --- Drug Offenses ---\n",
    "df['OFNS_DESC'] = df['OFNS_DESC'].replace('CANNABIS RELATED OFFENSES', 'DANGEROUS DRUGS')\n",
    "df['OFNS_DESC'] = df['OFNS_DESC'].replace('LOITERING FOR DRUG PURPOSES', 'DANGEROUS DRUGS')\n",
    "df['OFNS_DESC'] = df['OFNS_DESC'].replace('UNDER THE INFLUENCE OF DRUGS', 'DANGEROUS DRUGS')\n",
    "\n",
    "# --- Weapons Offenses ---\n",
    "df['OFNS_DESC'] = df['OFNS_DESC'].replace('UNLAWFUL POSS. WEAP. ON SCHOOL', 'DANGEROUS WEAPONS')\n",
    "\n",
    "# --- Sex Crimes ---\n",
    "df['OFNS_DESC'] = df['OFNS_DESC'].replace('FELONY SEX CRIMES', 'SEX CRIMES')\n",
    "\n",
    "# --- Fraud ---\n",
    "df['OFNS_DESC'] = df['OFNS_DESC'].replace('FORGERY', 'FRAUDS')\n",
    "df['OFNS_DESC'] = df['OFNS_DESC'].replace('THEFT-FRAUD', 'FRAUDS')\n",
    "df['OFNS_DESC'] = df['OFNS_DESC'].replace('OFFENSES INVOLVING FRAUD', 'FRAUDS')\n",
    "\n",
    "# --- Public Order Offenses ---\n",
    "df['OFNS_DESC'] = df['OFNS_DESC'].replace('ADMINISTRATIVE CODE', 'OFF. AGNST PUB ORDER')\n",
    "df['OFNS_DESC'] = df['OFNS_DESC'].replace('ADMINISTRATIVE CODES', 'OFF. AGNST PUB ORDER')\n",
    "df['OFNS_DESC'] = df['OFNS_DESC'].replace('NEW YORK CITY HEALTH CODE', 'OFF. AGNST PUB ORDER')\n",
    "df['OFNS_DESC'] = df['OFNS_DESC'].replace('DISRUPTION OF A RELIGIOUS SERV', 'OFF. AGNST PUB ORDER')\n",
    "df['OFNS_DESC'] = df['OFNS_DESC'].replace('OFFENSES AGAINST PUBLIC SAFETY', 'OFF. AGNST PUB ORDER')\n",
    "df['OFNS_DESC'] = df['OFNS_DESC'].replace('OFFENSES AGAINST PUBLIC ADMINI', 'OFF. AGNST PUB ORDER')\n",
    "df['OFNS_DESC'] = df['OFNS_DESC'].replace('OFF. AGNST PUB ORD SENSBLTY &', 'OFF. AGNST PUB ORDER')\n",
    "df['OFNS_DESC'] = df['OFNS_DESC'].replace('THEFT OF SERVICES', 'OFF. AGNST PUB ORDER')\n",
    "\n",
    "\n",
    "# --- Traffic Offenses ---\n",
    "df['OFNS_DESC'] = df['OFNS_DESC'].replace('INTOXICATED/IMPAIRED DRIVING', 'INTOXICATED & IMPAIRED DRIVING')\n",
    "df['OFNS_DESC'] = df['OFNS_DESC'].replace('OTHER TRAFFIC INFRACTION', 'VEHICLE AND TRAFFIC LAWS')\n",
    "df['OFNS_DESC'] = df['OFNS_DESC'].replace('UNAUTHORIZED USE OF A VEHICLE', 'VEHICLE AND TRAFFIC LAWS')\n",
    "\n",
    "# --- Burglary / Trespass ---\n",
    "df['OFNS_DESC'] = df['OFNS_DESC'].replace('CRIMINAL TRESPASS', 'BURGLARY')\n",
    "df['OFNS_DESC'] = df['OFNS_DESC'].replace(\"BURGLAR'S TOOLS\", 'BURGLARY')\n",
    "\n",
    "# --- Homicide ---\n",
    "df['OFNS_DESC'] = df['OFNS_DESC'].replace('HOMICIDE-NEGLIGENT,UNCLASSIFIE', 'HOMICIDE-NEGLIGENT')\n",
    "df['OFNS_DESC'] = df['OFNS_DESC'].replace('HOMICIDE-NEGLIGENT-VEHICLE', 'HOMICIDE-NEGLIGENT')\n",
    "\n",
    "# --- Child-related ---\n",
    "df['OFNS_DESC'] = df['OFNS_DESC'].replace('ENDAN WELFARE INCOMP', 'OFFENSES RELATED TO CHILDREN')\n",
    "df['OFNS_DESC'] = df['OFNS_DESC'].replace('CHILD ABANDONMENT/NON SUPPORT', 'OFFENSES RELATED TO CHILDREN')\n",
    "\n",
    "# --- Optional Cleanup (remove or recode nulls) ---\n",
    "df['OFNS_DESC'] = df['OFNS_DESC'].replace('(null)', 'UNKNOWN')\n",
    "\n",
    "# --- Kidnapping ---\n",
    "df['OFNS_DESC'] = df['OFNS_DESC'].replace('KIDNAPPING & RELATED OFFENSES', 'KIDNAPPING')\n",
    "df['OFNS_DESC'] = df['OFNS_DESC'].replace('KIDNAPPING AND RELATED OFFENSES', 'KIDNAPPING')\n",
    "\n",
    "# --- Others ---\n",
    "df['OFNS_DESC'] = df['OFNS_DESC'].replace('PROSTITUTION & RELATED OFFENSES', 'PROSTITUTION')\n",
    "df['OFNS_DESC'] = df['OFNS_DESC'].replace('CRIMINAL MISCHIEF & RELATED OF', 'CRIMINAL MISCHIEF')\n",
    "df['OFNS_DESC'] = df['OFNS_DESC'].replace('LOITERING/GAMBLING (CARDS, DIC', 'GAMBLING')\n",
    "df['OFNS_DESC'] = df['OFNS_DESC'].replace('LOITERING', 'GAMBLING')\n",
    "df['OFNS_DESC'] = df['OFNS_DESC'].replace('LOITERING (BEGGING)', 'GAMBLING')\n",
    "\n",
    "df['OFNS_DESC'] = df['OFNS_DESC'].replace({\n",
    "    'PETIT LARCENY': 'Minor Theft',\n",
    "    'GRAND LARCENY': 'Major Theft',\n",
    "    'POSSESSION OF STOLEN PROPERTY': 'Stolen Property Possession',\n",
    "    'ASSAULT': 'Physical Assault',\n",
    "    'HARASSMENT': 'Verbal or Physical Harassment',\n",
    "    'CRIMINAL MISCHIEF': 'Vandalism',\n",
    "    'OFF. AGNST PUB ORDER': 'Public Disturbance',\n",
    "    'DANGEROUS DRUGS': 'Drug Offenses',\n",
    "    'DANGEROUS WEAPONS': 'Weapon Possession',\n",
    "    'VEHICLE AND TRAFFIC LAWS': 'Traffic Violations',\n",
    "    'BURGLARY': 'Breaking & Entering',\n",
    "    'FRAUDS': 'Fraud and Forgery',\n",
    "    'SEX CRIMES': 'Sexual Offenses',\n",
    "    'RAPE': 'Rape',\n",
    "    'ARSON': 'Intentional property fire',\n",
    "    'MURDER & NON-NEGL. MANSLAUGHTER': 'Murder',\n",
    "    'HOMICIDE-NEGLIGENT': 'Negligent Homicide',\n",
    "    'GAMBLING': 'Illegal Gambling',\n",
    "    'KIDNAPPING': 'Kidnapping',\n",
    "    'OFFENSES RELATED TO CHILDREN': 'Child Abuse/Endangerment',\n",
    "    'PROSTITUTION': 'Prostitution Offenses'\n",
    "})\n",
    "\n",
    "keep_offenses = [\n",
    "    'Minor Theft',\n",
    "    'Major Theft',\n",
    "    'Stolen Property Possession',\n",
    "    'Physical Assault',\n",
    "    'Verbal or Physical Harassment',\n",
    "    'Vandalism',\n",
    "    'Public Disturbance',\n",
    "    'Drug Offenses',\n",
    "    'Weapon Possession',\n",
    "    'Traffic Violations',\n",
    "    'Breaking & Entering',\n",
    "    'Theft with Force',\n",
    "    'Fraud and Forgery',\n",
    "    'Rape',\n",
    "    'Intentional property fire',\n",
    "    'Murder',\n",
    "    'Negligent Homicide',\n",
    "    'Illegal Gambling',\n",
    "    'Kidnapping',\n",
    "    'Child Abuse/Endangerment',\n",
    "    'Prostitution Offenses'\n",
    "]\n",
    "\n",
    "df = df[df['OFNS_DESC'].isin(keep_offenses)]\n",
    "print(df.shape)\n",
    "df.head()"
   ]
  },
  {
   "cell_type": "code",
   "execution_count": 207,
   "metadata": {},
   "outputs": [
    {
     "data": {
      "text/html": [
       "<div>\n",
       "<style scoped>\n",
       "    .dataframe tbody tr th:only-of-type {\n",
       "        vertical-align: middle;\n",
       "    }\n",
       "\n",
       "    .dataframe tbody tr th {\n",
       "        vertical-align: top;\n",
       "    }\n",
       "\n",
       "    .dataframe thead th {\n",
       "        text-align: right;\n",
       "    }\n",
       "</style>\n",
       "<table border=\"1\" class=\"dataframe\">\n",
       "  <thead>\n",
       "    <tr style=\"text-align: right;\">\n",
       "      <th></th>\n",
       "      <th>District</th>\n",
       "      <th>Year</th>\n",
       "      <th>individuals_below_FPL</th>\n",
       "      <th>Employement_pop_ratio</th>\n",
       "      <th>District_Code</th>\n",
       "    </tr>\n",
       "  </thead>\n",
       "  <tbody>\n",
       "    <tr>\n",
       "      <th>0</th>\n",
       "      <td>Astoria</td>\n",
       "      <td>2005</td>\n",
       "      <td>0.18347</td>\n",
       "      <td>0.593</td>\n",
       "      <td>401</td>\n",
       "    </tr>\n",
       "    <tr>\n",
       "      <th>1</th>\n",
       "      <td>Astoria</td>\n",
       "      <td>2006</td>\n",
       "      <td>0.17182</td>\n",
       "      <td>0.592</td>\n",
       "      <td>401</td>\n",
       "    </tr>\n",
       "    <tr>\n",
       "      <th>2</th>\n",
       "      <td>Astoria</td>\n",
       "      <td>2007</td>\n",
       "      <td>0.16717</td>\n",
       "      <td>0.603</td>\n",
       "      <td>401</td>\n",
       "    </tr>\n",
       "    <tr>\n",
       "      <th>3</th>\n",
       "      <td>Astoria</td>\n",
       "      <td>2008</td>\n",
       "      <td>0.16424</td>\n",
       "      <td>0.638</td>\n",
       "      <td>401</td>\n",
       "    </tr>\n",
       "    <tr>\n",
       "      <th>4</th>\n",
       "      <td>Astoria</td>\n",
       "      <td>2009</td>\n",
       "      <td>0.15914</td>\n",
       "      <td>0.608</td>\n",
       "      <td>401</td>\n",
       "    </tr>\n",
       "  </tbody>\n",
       "</table>\n",
       "</div>"
      ],
      "text/plain": [
       "  District  Year  individuals_below_FPL  Employement_pop_ratio  District_Code\n",
       "0  Astoria  2005                0.18347                  0.593            401\n",
       "1  Astoria  2006                0.17182                  0.592            401\n",
       "2  Astoria  2007                0.16717                  0.603            401\n",
       "3  Astoria  2008                0.16424                  0.638            401\n",
       "4  Astoria  2009                0.15914                  0.608            401"
      ]
     },
     "execution_count": 207,
     "metadata": {},
     "output_type": "execute_result"
    }
   ],
   "source": [
    "df_eco=pd.read_csv(data_folder+'eco_data.csv')\n",
    "df_eco.head()"
   ]
  },
  {
   "cell_type": "markdown",
   "metadata": {},
   "source": [
    "## Crime situation"
   ]
  },
  {
   "cell_type": "code",
   "execution_count": 208,
   "metadata": {},
   "outputs": [
    {
     "data": {
      "application/vnd.plotly.v1+json": {
       "config": {
        "plotlyServerURL": "https://plot.ly"
       },
       "data": [
        {
         "hovertemplate": "Offense Type=%{x}<br>Percentage of Complaints (%)=%{y:.2f}<extra></extra>",
         "legendgroup": "",
         "marker": {
          "color": "#9ad0ec",
          "pattern": {
           "shape": ""
          }
         },
         "name": "",
         "orientation": "v",
         "showlegend": false,
         "textposition": "auto",
         "type": "bar",
         "x": [
          "Minor Theft",
          "Physical Assault",
          "Verbal or Physical Harassment",
          "Major Theft",
          "Vandalism",
          "Public Disturbance",
          "Drug Offenses",
          "Breaking & Entering",
          "Fraud and Forgery",
          "Weapon Possession",
          "Traffic Violations",
          "Stolen Property Possession",
          "Rape",
          "Intentional property fire",
          "Murder",
          "Illegal Gambling",
          "Kidnapping",
          "Child Abuse/Endangerment",
          "Prostitution Offenses",
          "Negligent Homicide"
         ],
         "xaxis": "x",
         "y": {
          "bdata": "tCs+qc98M0ASjIHgNlIwQEgzC46bci1ALEyZk0mOJ0AtZwLEbaYlQO0CtrXmmB5A9FN3V92WFkDifuWm+U0TQPjrRw8hUQlAeFxrTe78AUB888GwtxkAQGDDnONTzeA/Ip8znwfp0z9ZEh+g2ObOP0s9ewHXbbc/Np79nKlQqD9hxKU/ZzilP+MLKZQi/qA/lrD7XUvflD+L6k3iJCByPw==",
          "dtype": "f8"
         },
         "yaxis": "y"
        }
       ],
       "layout": {
        "barmode": "relative",
        "legend": {
         "tracegroupgap": 0
        },
        "plot_bgcolor": "white",
        "template": {
         "data": {
          "bar": [
           {
            "error_x": {
             "color": "#2a3f5f"
            },
            "error_y": {
             "color": "#2a3f5f"
            },
            "marker": {
             "line": {
              "color": "#E5ECF6",
              "width": 0.5
             },
             "pattern": {
              "fillmode": "overlay",
              "size": 10,
              "solidity": 0.2
             }
            },
            "type": "bar"
           }
          ],
          "barpolar": [
           {
            "marker": {
             "line": {
              "color": "#E5ECF6",
              "width": 0.5
             },
             "pattern": {
              "fillmode": "overlay",
              "size": 10,
              "solidity": 0.2
             }
            },
            "type": "barpolar"
           }
          ],
          "carpet": [
           {
            "aaxis": {
             "endlinecolor": "#2a3f5f",
             "gridcolor": "white",
             "linecolor": "white",
             "minorgridcolor": "white",
             "startlinecolor": "#2a3f5f"
            },
            "baxis": {
             "endlinecolor": "#2a3f5f",
             "gridcolor": "white",
             "linecolor": "white",
             "minorgridcolor": "white",
             "startlinecolor": "#2a3f5f"
            },
            "type": "carpet"
           }
          ],
          "choropleth": [
           {
            "colorbar": {
             "outlinewidth": 0,
             "ticks": ""
            },
            "type": "choropleth"
           }
          ],
          "contour": [
           {
            "colorbar": {
             "outlinewidth": 0,
             "ticks": ""
            },
            "colorscale": [
             [
              0,
              "#0d0887"
             ],
             [
              0.1111111111111111,
              "#46039f"
             ],
             [
              0.2222222222222222,
              "#7201a8"
             ],
             [
              0.3333333333333333,
              "#9c179e"
             ],
             [
              0.4444444444444444,
              "#bd3786"
             ],
             [
              0.5555555555555556,
              "#d8576b"
             ],
             [
              0.6666666666666666,
              "#ed7953"
             ],
             [
              0.7777777777777778,
              "#fb9f3a"
             ],
             [
              0.8888888888888888,
              "#fdca26"
             ],
             [
              1,
              "#f0f921"
             ]
            ],
            "type": "contour"
           }
          ],
          "contourcarpet": [
           {
            "colorbar": {
             "outlinewidth": 0,
             "ticks": ""
            },
            "type": "contourcarpet"
           }
          ],
          "heatmap": [
           {
            "colorbar": {
             "outlinewidth": 0,
             "ticks": ""
            },
            "colorscale": [
             [
              0,
              "#0d0887"
             ],
             [
              0.1111111111111111,
              "#46039f"
             ],
             [
              0.2222222222222222,
              "#7201a8"
             ],
             [
              0.3333333333333333,
              "#9c179e"
             ],
             [
              0.4444444444444444,
              "#bd3786"
             ],
             [
              0.5555555555555556,
              "#d8576b"
             ],
             [
              0.6666666666666666,
              "#ed7953"
             ],
             [
              0.7777777777777778,
              "#fb9f3a"
             ],
             [
              0.8888888888888888,
              "#fdca26"
             ],
             [
              1,
              "#f0f921"
             ]
            ],
            "type": "heatmap"
           }
          ],
          "histogram": [
           {
            "marker": {
             "pattern": {
              "fillmode": "overlay",
              "size": 10,
              "solidity": 0.2
             }
            },
            "type": "histogram"
           }
          ],
          "histogram2d": [
           {
            "colorbar": {
             "outlinewidth": 0,
             "ticks": ""
            },
            "colorscale": [
             [
              0,
              "#0d0887"
             ],
             [
              0.1111111111111111,
              "#46039f"
             ],
             [
              0.2222222222222222,
              "#7201a8"
             ],
             [
              0.3333333333333333,
              "#9c179e"
             ],
             [
              0.4444444444444444,
              "#bd3786"
             ],
             [
              0.5555555555555556,
              "#d8576b"
             ],
             [
              0.6666666666666666,
              "#ed7953"
             ],
             [
              0.7777777777777778,
              "#fb9f3a"
             ],
             [
              0.8888888888888888,
              "#fdca26"
             ],
             [
              1,
              "#f0f921"
             ]
            ],
            "type": "histogram2d"
           }
          ],
          "histogram2dcontour": [
           {
            "colorbar": {
             "outlinewidth": 0,
             "ticks": ""
            },
            "colorscale": [
             [
              0,
              "#0d0887"
             ],
             [
              0.1111111111111111,
              "#46039f"
             ],
             [
              0.2222222222222222,
              "#7201a8"
             ],
             [
              0.3333333333333333,
              "#9c179e"
             ],
             [
              0.4444444444444444,
              "#bd3786"
             ],
             [
              0.5555555555555556,
              "#d8576b"
             ],
             [
              0.6666666666666666,
              "#ed7953"
             ],
             [
              0.7777777777777778,
              "#fb9f3a"
             ],
             [
              0.8888888888888888,
              "#fdca26"
             ],
             [
              1,
              "#f0f921"
             ]
            ],
            "type": "histogram2dcontour"
           }
          ],
          "mesh3d": [
           {
            "colorbar": {
             "outlinewidth": 0,
             "ticks": ""
            },
            "type": "mesh3d"
           }
          ],
          "parcoords": [
           {
            "line": {
             "colorbar": {
              "outlinewidth": 0,
              "ticks": ""
             }
            },
            "type": "parcoords"
           }
          ],
          "pie": [
           {
            "automargin": true,
            "type": "pie"
           }
          ],
          "scatter": [
           {
            "fillpattern": {
             "fillmode": "overlay",
             "size": 10,
             "solidity": 0.2
            },
            "type": "scatter"
           }
          ],
          "scatter3d": [
           {
            "line": {
             "colorbar": {
              "outlinewidth": 0,
              "ticks": ""
             }
            },
            "marker": {
             "colorbar": {
              "outlinewidth": 0,
              "ticks": ""
             }
            },
            "type": "scatter3d"
           }
          ],
          "scattercarpet": [
           {
            "marker": {
             "colorbar": {
              "outlinewidth": 0,
              "ticks": ""
             }
            },
            "type": "scattercarpet"
           }
          ],
          "scattergeo": [
           {
            "marker": {
             "colorbar": {
              "outlinewidth": 0,
              "ticks": ""
             }
            },
            "type": "scattergeo"
           }
          ],
          "scattergl": [
           {
            "marker": {
             "colorbar": {
              "outlinewidth": 0,
              "ticks": ""
             }
            },
            "type": "scattergl"
           }
          ],
          "scattermap": [
           {
            "marker": {
             "colorbar": {
              "outlinewidth": 0,
              "ticks": ""
             }
            },
            "type": "scattermap"
           }
          ],
          "scattermapbox": [
           {
            "marker": {
             "colorbar": {
              "outlinewidth": 0,
              "ticks": ""
             }
            },
            "type": "scattermapbox"
           }
          ],
          "scatterpolar": [
           {
            "marker": {
             "colorbar": {
              "outlinewidth": 0,
              "ticks": ""
             }
            },
            "type": "scatterpolar"
           }
          ],
          "scatterpolargl": [
           {
            "marker": {
             "colorbar": {
              "outlinewidth": 0,
              "ticks": ""
             }
            },
            "type": "scatterpolargl"
           }
          ],
          "scatterternary": [
           {
            "marker": {
             "colorbar": {
              "outlinewidth": 0,
              "ticks": ""
             }
            },
            "type": "scatterternary"
           }
          ],
          "surface": [
           {
            "colorbar": {
             "outlinewidth": 0,
             "ticks": ""
            },
            "colorscale": [
             [
              0,
              "#0d0887"
             ],
             [
              0.1111111111111111,
              "#46039f"
             ],
             [
              0.2222222222222222,
              "#7201a8"
             ],
             [
              0.3333333333333333,
              "#9c179e"
             ],
             [
              0.4444444444444444,
              "#bd3786"
             ],
             [
              0.5555555555555556,
              "#d8576b"
             ],
             [
              0.6666666666666666,
              "#ed7953"
             ],
             [
              0.7777777777777778,
              "#fb9f3a"
             ],
             [
              0.8888888888888888,
              "#fdca26"
             ],
             [
              1,
              "#f0f921"
             ]
            ],
            "type": "surface"
           }
          ],
          "table": [
           {
            "cells": {
             "fill": {
              "color": "#EBF0F8"
             },
             "line": {
              "color": "white"
             }
            },
            "header": {
             "fill": {
              "color": "#C8D4E3"
             },
             "line": {
              "color": "white"
             }
            },
            "type": "table"
           }
          ]
         },
         "layout": {
          "annotationdefaults": {
           "arrowcolor": "#2a3f5f",
           "arrowhead": 0,
           "arrowwidth": 1
          },
          "autotypenumbers": "strict",
          "coloraxis": {
           "colorbar": {
            "outlinewidth": 0,
            "ticks": ""
           }
          },
          "colorscale": {
           "diverging": [
            [
             0,
             "#8e0152"
            ],
            [
             0.1,
             "#c51b7d"
            ],
            [
             0.2,
             "#de77ae"
            ],
            [
             0.3,
             "#f1b6da"
            ],
            [
             0.4,
             "#fde0ef"
            ],
            [
             0.5,
             "#f7f7f7"
            ],
            [
             0.6,
             "#e6f5d0"
            ],
            [
             0.7,
             "#b8e186"
            ],
            [
             0.8,
             "#7fbc41"
            ],
            [
             0.9,
             "#4d9221"
            ],
            [
             1,
             "#276419"
            ]
           ],
           "sequential": [
            [
             0,
             "#0d0887"
            ],
            [
             0.1111111111111111,
             "#46039f"
            ],
            [
             0.2222222222222222,
             "#7201a8"
            ],
            [
             0.3333333333333333,
             "#9c179e"
            ],
            [
             0.4444444444444444,
             "#bd3786"
            ],
            [
             0.5555555555555556,
             "#d8576b"
            ],
            [
             0.6666666666666666,
             "#ed7953"
            ],
            [
             0.7777777777777778,
             "#fb9f3a"
            ],
            [
             0.8888888888888888,
             "#fdca26"
            ],
            [
             1,
             "#f0f921"
            ]
           ],
           "sequentialminus": [
            [
             0,
             "#0d0887"
            ],
            [
             0.1111111111111111,
             "#46039f"
            ],
            [
             0.2222222222222222,
             "#7201a8"
            ],
            [
             0.3333333333333333,
             "#9c179e"
            ],
            [
             0.4444444444444444,
             "#bd3786"
            ],
            [
             0.5555555555555556,
             "#d8576b"
            ],
            [
             0.6666666666666666,
             "#ed7953"
            ],
            [
             0.7777777777777778,
             "#fb9f3a"
            ],
            [
             0.8888888888888888,
             "#fdca26"
            ],
            [
             1,
             "#f0f921"
            ]
           ]
          },
          "colorway": [
           "#636efa",
           "#EF553B",
           "#00cc96",
           "#ab63fa",
           "#FFA15A",
           "#19d3f3",
           "#FF6692",
           "#B6E880",
           "#FF97FF",
           "#FECB52"
          ],
          "font": {
           "color": "#2a3f5f"
          },
          "geo": {
           "bgcolor": "white",
           "lakecolor": "white",
           "landcolor": "#E5ECF6",
           "showlakes": true,
           "showland": true,
           "subunitcolor": "white"
          },
          "hoverlabel": {
           "align": "left"
          },
          "hovermode": "closest",
          "mapbox": {
           "style": "light"
          },
          "paper_bgcolor": "white",
          "plot_bgcolor": "#E5ECF6",
          "polar": {
           "angularaxis": {
            "gridcolor": "white",
            "linecolor": "white",
            "ticks": ""
           },
           "bgcolor": "#E5ECF6",
           "radialaxis": {
            "gridcolor": "white",
            "linecolor": "white",
            "ticks": ""
           }
          },
          "scene": {
           "xaxis": {
            "backgroundcolor": "#E5ECF6",
            "gridcolor": "white",
            "gridwidth": 2,
            "linecolor": "white",
            "showbackground": true,
            "ticks": "",
            "zerolinecolor": "white"
           },
           "yaxis": {
            "backgroundcolor": "#E5ECF6",
            "gridcolor": "white",
            "gridwidth": 2,
            "linecolor": "white",
            "showbackground": true,
            "ticks": "",
            "zerolinecolor": "white"
           },
           "zaxis": {
            "backgroundcolor": "#E5ECF6",
            "gridcolor": "white",
            "gridwidth": 2,
            "linecolor": "white",
            "showbackground": true,
            "ticks": "",
            "zerolinecolor": "white"
           }
          },
          "shapedefaults": {
           "line": {
            "color": "#2a3f5f"
           }
          },
          "ternary": {
           "aaxis": {
            "gridcolor": "white",
            "linecolor": "white",
            "ticks": ""
           },
           "baxis": {
            "gridcolor": "white",
            "linecolor": "white",
            "ticks": ""
           },
           "bgcolor": "#E5ECF6",
           "caxis": {
            "gridcolor": "white",
            "linecolor": "white",
            "ticks": ""
           }
          },
          "title": {
           "x": 0.05
          },
          "xaxis": {
           "automargin": true,
           "gridcolor": "white",
           "linecolor": "white",
           "ticks": "",
           "title": {
            "standoff": 15
           },
           "zerolinecolor": "white",
           "zerolinewidth": 2
          },
          "yaxis": {
           "automargin": true,
           "gridcolor": "white",
           "linecolor": "white",
           "ticks": "",
           "title": {
            "standoff": 15
           },
           "zerolinecolor": "white",
           "zerolinewidth": 2
          }
         }
        },
        "title": {
         "font": {
          "size": 18
         },
         "text": "Offense Type Repartition"
        },
        "xaxis": {
         "anchor": "y",
         "domain": [
          0,
          1
         ],
         "tickangle": -45,
         "tickfont": {
          "size": 12
         },
         "title": {
          "font": {
           "size": 12
          },
          "text": "Offense Type"
         }
        },
        "yaxis": {
         "anchor": "x",
         "domain": [
          0,
          1
         ],
         "gridcolor": "lightgray",
         "tickfont": {
          "size": 14
         },
         "title": {
          "font": {
           "size": 14
          },
          "text": "Percentage of Complaints (%)"
         }
        }
       }
      }
     },
     "metadata": {},
     "output_type": "display_data"
    }
   ],
   "source": [
    "import plotly.express as px\n",
    "import pandas as pd\n",
    "\n",
    "# Create offense type percentage DataFrame\n",
    "offense_percentage = (df['OFNS_DESC'].value_counts(normalize=True) * 100).reset_index()\n",
    "offense_percentage.columns = ['Offense Type', 'Percentage']\n",
    "\n",
    "# Create bar chart\n",
    "fig = px.bar(\n",
    "    offense_percentage,\n",
    "    x='Offense Type',\n",
    "    y='Percentage',\n",
    "    title='Offense Type Repartition',\n",
    "    labels={'Percentage': 'Percentage of Complaints (%)'},\n",
    "    hover_data={'Percentage': ':.2f'},\n",
    ")\n",
    "\n",
    "fig.update_traces(marker_color=color_plot)\n",
    "\n",
    "fig.update_layout(\n",
    "    xaxis_tickangle=-45,\n",
    "    xaxis_tickfont_size=12,\n",
    "    yaxis_title_font=dict(size=14),\n",
    "    xaxis_title_font=dict(size=12),\n",
    "    title_font=dict(size=18),\n",
    "    plot_bgcolor='white',\n",
    "    yaxis_gridcolor='lightgray',\n",
    "    yaxis=dict(tickfont=dict(size=14)),\n",
    ")\n",
    "\n",
    "fig.show()\n",
    "\n",
    "fig.write_html(\"../images/offense_type_repartition.html\")\n"
   ]
  },
  {
   "cell_type": "code",
   "execution_count": 209,
   "metadata": {},
   "outputs": [
    {
     "data": {
      "image/png": "[encoded data removed]",
      "text/plain": [
       "<Figure size 1000x600 with 1 Axes>"
      ]
     },
     "metadata": {},
     "output_type": "display_data"
    }
   ],
   "source": [
    "import matplotlib.ticker as mticker\n",
    "\n",
    "df_clean = df[df['BORO_NM'] != '(null)']\n",
    "\n",
    "\n",
    "# Group by year and borough, then count complaints\n",
    "complaints_per_year_boro = df_clean.groupby(['year_begin', 'BORO_NM']).size().unstack(fill_value=0)\n",
    "complaints_percent = complaints_per_year_boro.div(complaints_per_year_boro.sum(axis=1), axis=0) * 100\n",
    "\n",
    "# Plot\n",
    "plt.figure(figsize=(10, 6))\n",
    "for boro in complaints_percent.columns:\n",
    "    plt.plot(complaints_percent.index, complaints_percent[boro], label=boro)\n",
    "\n",
    "plt.title('Percentage of Complaints by Borough Over Time')\n",
    "plt.xlabel('Year')\n",
    "plt.ylabel('Percentage of Complaints (%)')\n",
    "plt.legend(title='Borough')\n",
    "plt.grid(True)\n",
    "plt.gca().xaxis.set_major_locator(mticker.MaxNLocator(integer=True))\n",
    "plt.tight_layout()\n",
    "plt.show()"
   ]
  },
  {
   "cell_type": "code",
   "execution_count": 210,
   "metadata": {},
   "outputs": [
    {
     "data": {
      "application/vnd.plotly.v1+json": {
       "config": {
        "plotlyServerURL": "https://plot.ly"
       },
       "data": [
        {
         "hovertemplate": "Hour of Day=%{x}<br>Number of Complaints=%{text}<extra></extra>",
         "legendgroup": "",
         "marker": {
          "color": "#9ad0ec",
          "pattern": {
           "shape": ""
          }
         },
         "name": "",
         "orientation": "v",
         "showlegend": false,
         "text": {
          "bdata": "AAAAAIQ3FkEAAAAAmOgOQQAAAADQtAhBAAAAAOB6BEEAAAAAqHgBQQAAAABwavpAAAAAADBm/UAAAAAAuJcFQQAAAAAwSRFBAAAAAFAZE0EAAAAA3DYUQQAAAABsqBRBAAAAANCCHEEAAAAARDMYQQAAAADo7hpBAAAAANgLHkEAAAAAHBcdQQAAAAAwYh1BAAAAAKy7HUEAAAAAOFscQQAAAAC4uhtBAAAAALzCGEEAAAAAYB4XQQAAAADE5xRB",
          "dtype": "f8"
         },
         "textposition": "outside",
         "texttemplate": "%{text}",
         "type": "bar",
         "x": {
          "bdata": "AAECAwQFBgcICQoLDA0ODxAREhMUFRYX",
          "dtype": "i1"
         },
         "xaxis": "x",
         "y": {
          "bdata": "4Y0FABPdAwCaFgMAXI8CABUvAgCnpgEAY9YBAPeyAgBMUgQAVMYEALcNBQAbKgUAtCAHANEMBgC6uwYA9oIHAMdFBwCMWAcA624HAM4WBwCu7gYArzAGAJjHBQDxOQUA",
          "dtype": "i4"
         },
         "yaxis": "y"
        }
       ],
       "layout": {
        "barmode": "relative",
        "legend": {
         "tracegroupgap": 0
        },
        "plot_bgcolor": "white",
        "template": {
         "data": {
          "bar": [
           {
            "error_x": {
             "color": "#2a3f5f"
            },
            "error_y": {
             "color": "#2a3f5f"
            },
            "marker": {
             "line": {
              "color": "#E5ECF6",
              "width": 0.5
             },
             "pattern": {
              "fillmode": "overlay",
              "size": 10,
              "solidity": 0.2
             }
            },
            "type": "bar"
           }
          ],
          "barpolar": [
           {
            "marker": {
             "line": {
              "color": "#E5ECF6",
              "width": 0.5
             },
             "pattern": {
              "fillmode": "overlay",
              "size": 10,
              "solidity": 0.2
             }
            },
            "type": "barpolar"
           }
          ],
          "carpet": [
           {
            "aaxis": {
             "endlinecolor": "#2a3f5f",
             "gridcolor": "white",
             "linecolor": "white",
             "minorgridcolor": "white",
             "startlinecolor": "#2a3f5f"
            },
            "baxis": {
             "endlinecolor": "#2a3f5f",
             "gridcolor": "white",
             "linecolor": "white",
             "minorgridcolor": "white",
             "startlinecolor": "#2a3f5f"
            },
            "type": "carpet"
           }
          ],
          "choropleth": [
           {
            "colorbar": {
             "outlinewidth": 0,
             "ticks": ""
            },
            "type": "choropleth"
           }
          ],
          "contour": [
           {
            "colorbar": {
             "outlinewidth": 0,
             "ticks": ""
            },
            "colorscale": [
             [
              0,
              "#0d0887"
             ],
             [
              0.1111111111111111,
              "#46039f"
             ],
             [
              0.2222222222222222,
              "#7201a8"
             ],
             [
              0.3333333333333333,
              "#9c179e"
             ],
             [
              0.4444444444444444,
              "#bd3786"
             ],
             [
              0.5555555555555556,
              "#d8576b"
             ],
             [
              0.6666666666666666,
              "#ed7953"
             ],
             [
              0.7777777777777778,
              "#fb9f3a"
             ],
             [
              0.8888888888888888,
              "#fdca26"
             ],
             [
              1,
              "#f0f921"
             ]
            ],
            "type": "contour"
           }
          ],
          "contourcarpet": [
           {
            "colorbar": {
             "outlinewidth": 0,
             "ticks": ""
            },
            "type": "contourcarpet"
           }
          ],
          "heatmap": [
           {
            "colorbar": {
             "outlinewidth": 0,
             "ticks": ""
            },
            "colorscale": [
             [
              0,
              "#0d0887"
             ],
             [
              0.1111111111111111,
              "#46039f"
             ],
             [
              0.2222222222222222,
              "#7201a8"
             ],
             [
              0.3333333333333333,
              "#9c179e"
             ],
             [
              0.4444444444444444,
              "#bd3786"
             ],
             [
              0.5555555555555556,
              "#d8576b"
             ],
             [
              0.6666666666666666,
              "#ed7953"
             ],
             [
              0.7777777777777778,
              "#fb9f3a"
             ],
             [
              0.8888888888888888,
              "#fdca26"
             ],
             [
              1,
              "#f0f921"
             ]
            ],
            "type": "heatmap"
           }
          ],
          "histogram": [
           {
            "marker": {
             "pattern": {
              "fillmode": "overlay",
              "size": 10,
              "solidity": 0.2
             }
            },
            "type": "histogram"
           }
          ],
          "histogram2d": [
           {
            "colorbar": {
             "outlinewidth": 0,
             "ticks": ""
            },
            "colorscale": [
             [
              0,
              "#0d0887"
             ],
             [
              0.1111111111111111,
              "#46039f"
             ],
             [
              0.2222222222222222,
              "#7201a8"
             ],
             [
              0.3333333333333333,
              "#9c179e"
             ],
             [
              0.4444444444444444,
              "#bd3786"
             ],
             [
              0.5555555555555556,
              "#d8576b"
             ],
             [
              0.6666666666666666,
              "#ed7953"
             ],
             [
              0.7777777777777778,
              "#fb9f3a"
             ],
             [
              0.8888888888888888,
              "#fdca26"
             ],
             [
              1,
              "#f0f921"
             ]
            ],
            "type": "histogram2d"
           }
          ],
          "histogram2dcontour": [
           {
            "colorbar": {
             "outlinewidth": 0,
             "ticks": ""
            },
            "colorscale": [
             [
              0,
              "#0d0887"
             ],
             [
              0.1111111111111111,
              "#46039f"
             ],
             [
              0.2222222222222222,
              "#7201a8"
             ],
             [
              0.3333333333333333,
              "#9c179e"
             ],
             [
              0.4444444444444444,
              "#bd3786"
             ],
             [
              0.5555555555555556,
              "#d8576b"
             ],
             [
              0.6666666666666666,
              "#ed7953"
             ],
             [
              0.7777777777777778,
              "#fb9f3a"
             ],
             [
              0.8888888888888888,
              "#fdca26"
             ],
             [
              1,
              "#f0f921"
             ]
            ],
            "type": "histogram2dcontour"
           }
          ],
          "mesh3d": [
           {
            "colorbar": {
             "outlinewidth": 0,
             "ticks": ""
            },
            "type": "mesh3d"
           }
          ],
          "parcoords": [
           {
            "line": {
             "colorbar": {
              "outlinewidth": 0,
              "ticks": ""
             }
            },
            "type": "parcoords"
           }
          ],
          "pie": [
           {
            "automargin": true,
            "type": "pie"
           }
          ],
          "scatter": [
           {
            "fillpattern": {
             "fillmode": "overlay",
             "size": 10,
             "solidity": 0.2
            },
            "type": "scatter"
           }
          ],
          "scatter3d": [
           {
            "line": {
             "colorbar": {
              "outlinewidth": 0,
              "ticks": ""
             }
            },
            "marker": {
             "colorbar": {
              "outlinewidth": 0,
              "ticks": ""
             }
            },
            "type": "scatter3d"
           }
          ],
          "scattercarpet": [
           {
            "marker": {
             "colorbar": {
              "outlinewidth": 0,
              "ticks": ""
             }
            },
            "type": "scattercarpet"
           }
          ],
          "scattergeo": [
           {
            "marker": {
             "colorbar": {
              "outlinewidth": 0,
              "ticks": ""
             }
            },
            "type": "scattergeo"
           }
          ],
          "scattergl": [
           {
            "marker": {
             "colorbar": {
              "outlinewidth": 0,
              "ticks": ""
             }
            },
            "type": "scattergl"
           }
          ],
          "scattermap": [
           {
            "marker": {
             "colorbar": {
              "outlinewidth": 0,
              "ticks": ""
             }
            },
            "type": "scattermap"
           }
          ],
          "scattermapbox": [
           {
            "marker": {
             "colorbar": {
              "outlinewidth": 0,
              "ticks": ""
             }
            },
            "type": "scattermapbox"
           }
          ],
          "scatterpolar": [
           {
            "marker": {
             "colorbar": {
              "outlinewidth": 0,
              "ticks": ""
             }
            },
            "type": "scatterpolar"
           }
          ],
          "scatterpolargl": [
           {
            "marker": {
             "colorbar": {
              "outlinewidth": 0,
              "ticks": ""
             }
            },
            "type": "scatterpolargl"
           }
          ],
          "scatterternary": [
           {
            "marker": {
             "colorbar": {
              "outlinewidth": 0,
              "ticks": ""
             }
            },
            "type": "scatterternary"
           }
          ],
          "surface": [
           {
            "colorbar": {
             "outlinewidth": 0,
             "ticks": ""
            },
            "colorscale": [
             [
              0,
              "#0d0887"
             ],
             [
              0.1111111111111111,
              "#46039f"
             ],
             [
              0.2222222222222222,
              "#7201a8"
             ],
             [
              0.3333333333333333,
              "#9c179e"
             ],
             [
              0.4444444444444444,
              "#bd3786"
             ],
             [
              0.5555555555555556,
              "#d8576b"
             ],
             [
              0.6666666666666666,
              "#ed7953"
             ],
             [
              0.7777777777777778,
              "#fb9f3a"
             ],
             [
              0.8888888888888888,
              "#fdca26"
             ],
             [
              1,
              "#f0f921"
             ]
            ],
            "type": "surface"
           }
          ],
          "table": [
           {
            "cells": {
             "fill": {
              "color": "#EBF0F8"
             },
             "line": {
              "color": "white"
             }
            },
            "header": {
             "fill": {
              "color": "#C8D4E3"
             },
             "line": {
              "color": "white"
             }
            },
            "type": "table"
           }
          ]
         },
         "layout": {
          "annotationdefaults": {
           "arrowcolor": "#2a3f5f",
           "arrowhead": 0,
           "arrowwidth": 1
          },
          "autotypenumbers": "strict",
          "coloraxis": {
           "colorbar": {
            "outlinewidth": 0,
            "ticks": ""
           }
          },
          "colorscale": {
           "diverging": [
            [
             0,
             "#8e0152"
            ],
            [
             0.1,
             "#c51b7d"
            ],
            [
             0.2,
             "#de77ae"
            ],
            [
             0.3,
             "#f1b6da"
            ],
            [
             0.4,
             "#fde0ef"
            ],
            [
             0.5,
             "#f7f7f7"
            ],
            [
             0.6,
             "#e6f5d0"
            ],
            [
             0.7,
             "#b8e186"
            ],
            [
             0.8,
             "#7fbc41"
            ],
            [
             0.9,
             "#4d9221"
            ],
            [
             1,
             "#276419"
            ]
           ],
           "sequential": [
            [
             0,
             "#0d0887"
            ],
            [
             0.1111111111111111,
             "#46039f"
            ],
            [
             0.2222222222222222,
             "#7201a8"
            ],
            [
             0.3333333333333333,
             "#9c179e"
            ],
            [
             0.4444444444444444,
             "#bd3786"
            ],
            [
             0.5555555555555556,
             "#d8576b"
            ],
            [
             0.6666666666666666,
             "#ed7953"
            ],
            [
             0.7777777777777778,
             "#fb9f3a"
            ],
            [
             0.8888888888888888,
             "#fdca26"
            ],
            [
             1,
             "#f0f921"
            ]
           ],
           "sequentialminus": [
            [
             0,
             "#0d0887"
            ],
            [
             0.1111111111111111,
             "#46039f"
            ],
            [
             0.2222222222222222,
             "#7201a8"
            ],
            [
             0.3333333333333333,
             "#9c179e"
            ],
            [
             0.4444444444444444,
             "#bd3786"
            ],
            [
             0.5555555555555556,
             "#d8576b"
            ],
            [
             0.6666666666666666,
             "#ed7953"
            ],
            [
             0.7777777777777778,
             "#fb9f3a"
            ],
            [
             0.8888888888888888,
             "#fdca26"
            ],
            [
             1,
             "#f0f921"
            ]
           ]
          },
          "colorway": [
           "#636efa",
           "#EF553B",
           "#00cc96",
           "#ab63fa",
           "#FFA15A",
           "#19d3f3",
           "#FF6692",
           "#B6E880",
           "#FF97FF",
           "#FECB52"
          ],
          "font": {
           "color": "#2a3f5f"
          },
          "geo": {
           "bgcolor": "white",
           "lakecolor": "white",
           "landcolor": "#E5ECF6",
           "showlakes": true,
           "showland": true,
           "subunitcolor": "white"
          },
          "hoverlabel": {
           "align": "left"
          },
          "hovermode": "closest",
          "mapbox": {
           "style": "light"
          },
          "paper_bgcolor": "white",
          "plot_bgcolor": "#E5ECF6",
          "polar": {
           "angularaxis": {
            "gridcolor": "white",
            "linecolor": "white",
            "ticks": ""
           },
           "bgcolor": "#E5ECF6",
           "radialaxis": {
            "gridcolor": "white",
            "linecolor": "white",
            "ticks": ""
           }
          },
          "scene": {
           "xaxis": {
            "backgroundcolor": "#E5ECF6",
            "gridcolor": "white",
            "gridwidth": 2,
            "linecolor": "white",
            "showbackground": true,
            "ticks": "",
            "zerolinecolor": "white"
           },
           "yaxis": {
            "backgroundcolor": "#E5ECF6",
            "gridcolor": "white",
            "gridwidth": 2,
            "linecolor": "white",
            "showbackground": true,
            "ticks": "",
            "zerolinecolor": "white"
           },
           "zaxis": {
            "backgroundcolor": "#E5ECF6",
            "gridcolor": "white",
            "gridwidth": 2,
            "linecolor": "white",
            "showbackground": true,
            "ticks": "",
            "zerolinecolor": "white"
           }
          },
          "shapedefaults": {
           "line": {
            "color": "#2a3f5f"
           }
          },
          "ternary": {
           "aaxis": {
            "gridcolor": "white",
            "linecolor": "white",
            "ticks": ""
           },
           "baxis": {
            "gridcolor": "white",
            "linecolor": "white",
            "ticks": ""
           },
           "bgcolor": "#E5ECF6",
           "caxis": {
            "gridcolor": "white",
            "linecolor": "white",
            "ticks": ""
           }
          },
          "title": {
           "x": 0.05
          },
          "xaxis": {
           "automargin": true,
           "gridcolor": "white",
           "linecolor": "white",
           "ticks": "",
           "title": {
            "standoff": 15
           },
           "zerolinecolor": "white",
           "zerolinewidth": 2
          },
          "yaxis": {
           "automargin": true,
           "gridcolor": "white",
           "linecolor": "white",
           "ticks": "",
           "title": {
            "standoff": 15
           },
           "zerolinecolor": "white",
           "zerolinewidth": 2
          }
         }
        },
        "title": {
         "text": "Reported Crime by Hour of Day",
         "x": 0.5
        },
        "xaxis": {
         "anchor": "y",
         "domain": [
          0,
          1
         ],
         "dtick": 1,
         "tickmode": "linear",
         "title": {
          "text": "Hour of Day"
         }
        },
        "yaxis": {
         "anchor": "x",
         "domain": [
          0,
          1
         ],
         "title": {
          "text": "Number of Complaints"
         }
        }
       }
      }
     },
     "metadata": {},
     "output_type": "display_data"
    }
   ],
   "source": [
    "import plotly.express as px\n",
    "import pandas as pd\n",
    "\n",
    "# Prepare hour data\n",
    "hours = df['CMPLNT_FR_TM'].str[:2]\n",
    "hours = hours[~(hours == '(n')]  # Remove nulls\n",
    "hour_counts = hours.value_counts().sort_index()\n",
    "hour_df = pd.DataFrame({'Hour': hour_counts.index, 'Count': hour_counts.values.astype(int)})\n",
    "hour_df['Hour'] = hour_df['Hour'].astype(int)\n",
    "\n",
    "# Sort by hour\n",
    "hour_df = hour_df.sort_values('Hour')\n",
    "\n",
    "# Plotly bar chart\n",
    "fig = px.bar(\n",
    "    hour_df,\n",
    "    x='Hour',\n",
    "    y='Count',\n",
    "    labels={'Count': 'Number of Complaints', 'Hour': 'Hour of Day'},\n",
    "    title='Reported Crime by Hour of Day',\n",
    "    text='Count'\n",
    ")\n",
    "\n",
    "fig.update_layout(\n",
    "    plot_bgcolor='white',\n",
    "    title_x=0.5,\n",
    "    yaxis_title=\"Number of Complaints\",\n",
    "    xaxis=dict(\n",
    "        tickmode='linear',\n",
    "        dtick=1\n",
    "    )\n",
    ")\n",
    "fig.update_traces(marker_color=color_plot, texttemplate='%{text}', textposition='outside')\n",
    "\n",
    "fig.show()\n",
    "fig.write_html(\"../images/crime_by_hour.html\")\n"
   ]
  },
  {
   "cell_type": "code",
   "execution_count": 211,
   "metadata": {},
   "outputs": [
    {
     "data": {
      "image/png": "[encoded data removed]",
      "text/plain": [
       "<Figure size 600x600 with 1 Axes>"
      ]
     },
     "metadata": {},
     "output_type": "display_data"
    },
    {
     "data": {
      "image/png": "[encoded data removed]",
      "text/plain": [
       "<Figure size 600x600 with 1 Axes>"
      ]
     },
     "metadata": {},
     "output_type": "display_data"
    }
   ],
   "source": [
    "df_gender = df.query(\"(VIC_SEX == 'F')| (VIC_SEX =='M')\")\n",
    "\n",
    "labels= [\"Female\", \"Men\"]\n",
    "sizes = [df_gender['VIC_SEX'].value_counts().get('F', 0),\n",
    "         df_gender['VIC_SEX'].value_counts().get('M', 0)]\n",
    "\n",
    "\n",
    "plt.figure(figsize=(6, 6))\n",
    "plt.pie(sizes, labels=labels, autopct='%1.1f%%', startangle=140)\n",
    "plt.title('Sex of the victims considering complaints regarding single victims')\n",
    "plt.show()\n",
    "\n",
    "df_gender_susp = df[df['SUSP_SEX'].isin(['F', 'M'])]\n",
    "\n",
    "labels= [\"Female\", \"Men\"]\n",
    "sizes = [df_gender_susp['SUSP_SEX'].value_counts().get('F', 0),\n",
    "         df_gender_susp['SUSP_SEX'].value_counts().get('M', 0)]\n",
    "\n",
    "\n",
    "plt.figure(figsize=(6, 6))\n",
    "plt.pie(sizes, labels=labels, autopct='%1.1f%%', startangle=140)\n",
    "plt.title('Sex of the suspects considering complaints regarding single victims')\n",
    "plt.show()"
   ]
  },
  {
   "cell_type": "code",
   "execution_count": 212,
   "metadata": {},
   "outputs": [
    {
     "name": "stdout",
     "output_type": "stream",
     "text": [
      "rgb(110,150,255)\n",
      "rgb(110,150,255)\n",
      "rgb(112,153,243)\n",
      "rgb(112,153,243)\n",
      "rgb(114,156,232)\n",
      "rgb(114,156,232)\n",
      "rgb(116,160,221)\n",
      "rgb(118,163,210)\n",
      "rgb(118,163,210)\n",
      "rgb(121,166,199)\n",
      "rgb(123,170,188)\n",
      "rgb(123,170,188)\n",
      "rgb(123,170,188)\n",
      "rgb(125,173,177)\n",
      "rgb(125,173,177)\n",
      "rgb(125,173,177)\n",
      "rgb(125,173,177)\n",
      "rgb(127,176,166)\n",
      "rgb(127,176,166)\n",
      "rgb(130,180,155)\n"
     ]
    },
    {
     "data": {
      "image/png": "[encoded data removed]",
      "text/plain": [
       "<Figure size 1400x800 with 1 Axes>"
      ]
     },
     "metadata": {},
     "output_type": "display_data"
    },
    {
     "name": "stdout",
     "output_type": "stream",
     "text": [
      "Plot saved at /Users/elsa/EPFL/MA4/Data_vis/BluePink/images/crime_type.png\n"
     ]
    }
   ],
   "source": [
    "from wordcloud import WordCloud\n",
    "import matplotlib.pyplot as plt\n",
    "import os\n",
    "\n",
    "# Severity scores\n",
    "severity = {\n",
    "    'Breaking & Entering': 5,\n",
    "    'Major Theft': 6,\n",
    "    'Physical Assault': 7,\n",
    "    'Minor Theft': 2,\n",
    "    'Verbal or Physical Harassment': 3,\n",
    "    'Weapon Possession': 6,\n",
    "    'Vandalism': 3,\n",
    "    'Fraud and Forgery': 4,\n",
    "    'Drug Offenses': 4,\n",
    "    'Public Disturbance': 2,\n",
    "    'Traffic Violations': 1,\n",
    "    'Rape': 9,\n",
    "    'Intentional property fire': 8,\n",
    "    'Illegal Gambling': 3,\n",
    "    'Kidnapping': 10,\n",
    "    'Stolen Property Possession': 3,\n",
    "    'Child Abuse/Endangerment': 8,\n",
    "    'Prostitution Offenses': 4,\n",
    "    'Negligent Homicide': 9,\n",
    "    'Murder': 10\n",
    "}\n",
    "\n",
    "# Color function: black (low severity) to red (high severity)\n",
    "def black_to_red(word):\n",
    "    score = severity.get(word, 1)\n",
    "    t = (score - 1) / 9  # min=1, max=10\n",
    "    r = int(255 * t)\n",
    "    return f\"rgb({r},0,0)\" \n",
    "\n",
    "def black_to_pastel_blue(word):\n",
    "    score = severity.get(word, 1)\n",
    "    t = (score - 1) / 9 \n",
    "\n",
    "    # Start from very light blue and increase slightly in blue saturation\n",
    "    r = int(130 - 20 * t)  \n",
    "    g = int(180 - 30 * t)  \n",
    "    b = int(255 - 100 * (1 - t))  \n",
    "    print(f\"rgb({r},{g},{b})\")\n",
    "    return f\"rgb({r},{g},{b})\"\n",
    "\n",
    "\n",
    "\n",
    "# Create word cloud\n",
    "wordcloud = WordCloud(\n",
    "    width=1000,\n",
    "    height=600,\n",
    "    background_color='white',\n",
    "    max_font_size=120,\n",
    "    prefer_horizontal=1.0,\n",
    "    color_func=black_to_pastel_blue\n",
    ").generate_from_frequencies(severity)\n",
    "\n",
    "output_path = \"../images/crime_type.png\"\n",
    "abs_path = os.path.abspath(output_path)\n",
    "\n",
    "# Display it\n",
    "plt.figure(figsize=(14, 8))\n",
    "plt.imshow(wordcloud, interpolation='bilinear')\n",
    "plt.axis('off')\n",
    "plt.tight_layout()\n",
    "plt.savefig(abs_path)\n",
    "plt.show()\n",
    "\n",
    "print(f\"Plot saved at {abs_path}\")\n",
    "\n"
   ]
  },
  {
   "cell_type": "code",
   "execution_count": 213,
   "metadata": {},
   "outputs": [
    {
     "name": "stdout",
     "output_type": "stream",
     "text": [
      "Average number of rape complaints per year: 1398.2222222222222\n",
      "Average number of murder complaints per year: 411.3333333333333\n",
      "Average number of intentional property fire complaints per year: 1085.0555555555557\n",
      "Average number of kidnapping complaints per year: 186.27777777777777\n"
     ]
    }
   ],
   "source": [
    "rape_df = df[df['OFNS_DESC'] == 'Rape']\n",
    "rape_counts_per_year = rape_df.groupby('year_begin').size()\n",
    "average_rape_per_year = rape_counts_per_year.mean()\n",
    "print(\"Average number of rape complaints per year:\", average_rape_per_year)\n",
    "\n",
    "rape_df = df[df['OFNS_DESC'] == 'Murder']\n",
    "rape_counts_per_year = rape_df.groupby('year_begin').size()\n",
    "average_rape_per_year = rape_counts_per_year.mean()\n",
    "print(\"Average number of murder complaints per year:\", average_rape_per_year)\n",
    "\n",
    "rape_df = df[df['OFNS_DESC'] == 'Intentional property fire']\n",
    "rape_counts_per_year = rape_df.groupby('year_begin').size()\n",
    "average_rape_per_year = rape_counts_per_year.mean()\n",
    "print(\"Average number of intentional property fire complaints per year:\", average_rape_per_year)\n",
    "\n",
    "rape_df = df[df['OFNS_DESC'] == 'Kidnapping']\n",
    "rape_counts_per_year = rape_df.groupby('year_begin').size()\n",
    "average_rape_per_year = rape_counts_per_year.mean()\n",
    "print(\"Average number of kidnapping complaints per year:\", average_rape_per_year)\n",
    "\n"
   ]
  },
  {
   "cell_type": "code",
   "execution_count": 214,
   "metadata": {},
   "outputs": [
    {
     "data": {
      "application/vnd.plotly.v1+json": {
       "config": {
        "plotlyServerURL": "https://plot.ly"
       },
       "data": [
        {
         "domain": {
          "x": [
           0,
           1
          ],
          "y": [
           0,
           1
          ]
         },
         "hole": 0.4,
         "hovertemplate": "Borough=%{label}<br>Count=%{value}<extra></extra>",
         "labels": [
          "BROOKLYN",
          "MANHATTAN",
          "BRONX",
          "QUEENS",
          "STATEN ISLAND"
         ],
         "legendgroup": "",
         "name": "",
         "pull": [
          0.02,
          0.02,
          0.02,
          0.02,
          0.02
         ],
         "showlegend": true,
         "textfont": {
          "size": 10
         },
         "textinfo": "percent",
         "type": "pie",
         "values": {
          "bdata": "4MUjACg9HgAJ3hoAILsYAMm4BQA=",
          "dtype": "i4"
         }
        }
       ],
       "layout": {
        "height": 350,
        "legend": {
         "tracegroupgap": 0
        },
        "margin": {
         "b": 30,
         "l": 10,
         "r": 10,
         "t": 30
        },
        "piecolorway": [
         "#a8dadc",
         "#457b9d",
         "#74c69d",
         "#b5ead7",
         "#9ad0ec"
        ],
        "showlegend": true,
        "template": {
         "data": {
          "bar": [
           {
            "error_x": {
             "color": "#2a3f5f"
            },
            "error_y": {
             "color": "#2a3f5f"
            },
            "marker": {
             "line": {
              "color": "#E5ECF6",
              "width": 0.5
             },
             "pattern": {
              "fillmode": "overlay",
              "size": 10,
              "solidity": 0.2
             }
            },
            "type": "bar"
           }
          ],
          "barpolar": [
           {
            "marker": {
             "line": {
              "color": "#E5ECF6",
              "width": 0.5
             },
             "pattern": {
              "fillmode": "overlay",
              "size": 10,
              "solidity": 0.2
             }
            },
            "type": "barpolar"
           }
          ],
          "carpet": [
           {
            "aaxis": {
             "endlinecolor": "#2a3f5f",
             "gridcolor": "white",
             "linecolor": "white",
             "minorgridcolor": "white",
             "startlinecolor": "#2a3f5f"
            },
            "baxis": {
             "endlinecolor": "#2a3f5f",
             "gridcolor": "white",
             "linecolor": "white",
             "minorgridcolor": "white",
             "startlinecolor": "#2a3f5f"
            },
            "type": "carpet"
           }
          ],
          "choropleth": [
           {
            "colorbar": {
             "outlinewidth": 0,
             "ticks": ""
            },
            "type": "choropleth"
           }
          ],
          "contour": [
           {
            "colorbar": {
             "outlinewidth": 0,
             "ticks": ""
            },
            "colorscale": [
             [
              0,
              "#0d0887"
             ],
             [
              0.1111111111111111,
              "#46039f"
             ],
             [
              0.2222222222222222,
              "#7201a8"
             ],
             [
              0.3333333333333333,
              "#9c179e"
             ],
             [
              0.4444444444444444,
              "#bd3786"
             ],
             [
              0.5555555555555556,
              "#d8576b"
             ],
             [
              0.6666666666666666,
              "#ed7953"
             ],
             [
              0.7777777777777778,
              "#fb9f3a"
             ],
             [
              0.8888888888888888,
              "#fdca26"
             ],
             [
              1,
              "#f0f921"
             ]
            ],
            "type": "contour"
           }
          ],
          "contourcarpet": [
           {
            "colorbar": {
             "outlinewidth": 0,
             "ticks": ""
            },
            "type": "contourcarpet"
           }
          ],
          "heatmap": [
           {
            "colorbar": {
             "outlinewidth": 0,
             "ticks": ""
            },
            "colorscale": [
             [
              0,
              "#0d0887"
             ],
             [
              0.1111111111111111,
              "#46039f"
             ],
             [
              0.2222222222222222,
              "#7201a8"
             ],
             [
              0.3333333333333333,
              "#9c179e"
             ],
             [
              0.4444444444444444,
              "#bd3786"
             ],
             [
              0.5555555555555556,
              "#d8576b"
             ],
             [
              0.6666666666666666,
              "#ed7953"
             ],
             [
              0.7777777777777778,
              "#fb9f3a"
             ],
             [
              0.8888888888888888,
              "#fdca26"
             ],
             [
              1,
              "#f0f921"
             ]
            ],
            "type": "heatmap"
           }
          ],
          "histogram": [
           {
            "marker": {
             "pattern": {
              "fillmode": "overlay",
              "size": 10,
              "solidity": 0.2
             }
            },
            "type": "histogram"
           }
          ],
          "histogram2d": [
           {
            "colorbar": {
             "outlinewidth": 0,
             "ticks": ""
            },
            "colorscale": [
             [
              0,
              "#0d0887"
             ],
             [
              0.1111111111111111,
              "#46039f"
             ],
             [
              0.2222222222222222,
              "#7201a8"
             ],
             [
              0.3333333333333333,
              "#9c179e"
             ],
             [
              0.4444444444444444,
              "#bd3786"
             ],
             [
              0.5555555555555556,
              "#d8576b"
             ],
             [
              0.6666666666666666,
              "#ed7953"
             ],
             [
              0.7777777777777778,
              "#fb9f3a"
             ],
             [
              0.8888888888888888,
              "#fdca26"
             ],
             [
              1,
              "#f0f921"
             ]
            ],
            "type": "histogram2d"
           }
          ],
          "histogram2dcontour": [
           {
            "colorbar": {
             "outlinewidth": 0,
             "ticks": ""
            },
            "colorscale": [
             [
              0,
              "#0d0887"
             ],
             [
              0.1111111111111111,
              "#46039f"
             ],
             [
              0.2222222222222222,
              "#7201a8"
             ],
             [
              0.3333333333333333,
              "#9c179e"
             ],
             [
              0.4444444444444444,
              "#bd3786"
             ],
             [
              0.5555555555555556,
              "#d8576b"
             ],
             [
              0.6666666666666666,
              "#ed7953"
             ],
             [
              0.7777777777777778,
              "#fb9f3a"
             ],
             [
              0.8888888888888888,
              "#fdca26"
             ],
             [
              1,
              "#f0f921"
             ]
            ],
            "type": "histogram2dcontour"
           }
          ],
          "mesh3d": [
           {
            "colorbar": {
             "outlinewidth": 0,
             "ticks": ""
            },
            "type": "mesh3d"
           }
          ],
          "parcoords": [
           {
            "line": {
             "colorbar": {
              "outlinewidth": 0,
              "ticks": ""
             }
            },
            "type": "parcoords"
           }
          ],
          "pie": [
           {
            "automargin": true,
            "type": "pie"
           }
          ],
          "scatter": [
           {
            "fillpattern": {
             "fillmode": "overlay",
             "size": 10,
             "solidity": 0.2
            },
            "type": "scatter"
           }
          ],
          "scatter3d": [
           {
            "line": {
             "colorbar": {
              "outlinewidth": 0,
              "ticks": ""
             }
            },
            "marker": {
             "colorbar": {
              "outlinewidth": 0,
              "ticks": ""
             }
            },
            "type": "scatter3d"
           }
          ],
          "scattercarpet": [
           {
            "marker": {
             "colorbar": {
              "outlinewidth": 0,
              "ticks": ""
             }
            },
            "type": "scattercarpet"
           }
          ],
          "scattergeo": [
           {
            "marker": {
             "colorbar": {
              "outlinewidth": 0,
              "ticks": ""
             }
            },
            "type": "scattergeo"
           }
          ],
          "scattergl": [
           {
            "marker": {
             "colorbar": {
              "outlinewidth": 0,
              "ticks": ""
             }
            },
            "type": "scattergl"
           }
          ],
          "scattermap": [
           {
            "marker": {
             "colorbar": {
              "outlinewidth": 0,
              "ticks": ""
             }
            },
            "type": "scattermap"
           }
          ],
          "scattermapbox": [
           {
            "marker": {
             "colorbar": {
              "outlinewidth": 0,
              "ticks": ""
             }
            },
            "type": "scattermapbox"
           }
          ],
          "scatterpolar": [
           {
            "marker": {
             "colorbar": {
              "outlinewidth": 0,
              "ticks": ""
             }
            },
            "type": "scatterpolar"
           }
          ],
          "scatterpolargl": [
           {
            "marker": {
             "colorbar": {
              "outlinewidth": 0,
              "ticks": ""
             }
            },
            "type": "scatterpolargl"
           }
          ],
          "scatterternary": [
           {
            "marker": {
             "colorbar": {
              "outlinewidth": 0,
              "ticks": ""
             }
            },
            "type": "scatterternary"
           }
          ],
          "surface": [
           {
            "colorbar": {
             "outlinewidth": 0,
             "ticks": ""
            },
            "colorscale": [
             [
              0,
              "#0d0887"
             ],
             [
              0.1111111111111111,
              "#46039f"
             ],
             [
              0.2222222222222222,
              "#7201a8"
             ],
             [
              0.3333333333333333,
              "#9c179e"
             ],
             [
              0.4444444444444444,
              "#bd3786"
             ],
             [
              0.5555555555555556,
              "#d8576b"
             ],
             [
              0.6666666666666666,
              "#ed7953"
             ],
             [
              0.7777777777777778,
              "#fb9f3a"
             ],
             [
              0.8888888888888888,
              "#fdca26"
             ],
             [
              1,
              "#f0f921"
             ]
            ],
            "type": "surface"
           }
          ],
          "table": [
           {
            "cells": {
             "fill": {
              "color": "#EBF0F8"
             },
             "line": {
              "color": "white"
             }
            },
            "header": {
             "fill": {
              "color": "#C8D4E3"
             },
             "line": {
              "color": "white"
             }
            },
            "type": "table"
           }
          ]
         },
         "layout": {
          "annotationdefaults": {
           "arrowcolor": "#2a3f5f",
           "arrowhead": 0,
           "arrowwidth": 1
          },
          "autotypenumbers": "strict",
          "coloraxis": {
           "colorbar": {
            "outlinewidth": 0,
            "ticks": ""
           }
          },
          "colorscale": {
           "diverging": [
            [
             0,
             "#8e0152"
            ],
            [
             0.1,
             "#c51b7d"
            ],
            [
             0.2,
             "#de77ae"
            ],
            [
             0.3,
             "#f1b6da"
            ],
            [
             0.4,
             "#fde0ef"
            ],
            [
             0.5,
             "#f7f7f7"
            ],
            [
             0.6,
             "#e6f5d0"
            ],
            [
             0.7,
             "#b8e186"
            ],
            [
             0.8,
             "#7fbc41"
            ],
            [
             0.9,
             "#4d9221"
            ],
            [
             1,
             "#276419"
            ]
           ],
           "sequential": [
            [
             0,
             "#0d0887"
            ],
            [
             0.1111111111111111,
             "#46039f"
            ],
            [
             0.2222222222222222,
             "#7201a8"
            ],
            [
             0.3333333333333333,
             "#9c179e"
            ],
            [
             0.4444444444444444,
             "#bd3786"
            ],
            [
             0.5555555555555556,
             "#d8576b"
            ],
            [
             0.6666666666666666,
             "#ed7953"
            ],
            [
             0.7777777777777778,
             "#fb9f3a"
            ],
            [
             0.8888888888888888,
             "#fdca26"
            ],
            [
             1,
             "#f0f921"
            ]
           ],
           "sequentialminus": [
            [
             0,
             "#0d0887"
            ],
            [
             0.1111111111111111,
             "#46039f"
            ],
            [
             0.2222222222222222,
             "#7201a8"
            ],
            [
             0.3333333333333333,
             "#9c179e"
            ],
            [
             0.4444444444444444,
             "#bd3786"
            ],
            [
             0.5555555555555556,
             "#d8576b"
            ],
            [
             0.6666666666666666,
             "#ed7953"
            ],
            [
             0.7777777777777778,
             "#fb9f3a"
            ],
            [
             0.8888888888888888,
             "#fdca26"
            ],
            [
             1,
             "#f0f921"
            ]
           ]
          },
          "colorway": [
           "#636efa",
           "#EF553B",
           "#00cc96",
           "#ab63fa",
           "#FFA15A",
           "#19d3f3",
           "#FF6692",
           "#B6E880",
           "#FF97FF",
           "#FECB52"
          ],
          "font": {
           "color": "#2a3f5f"
          },
          "geo": {
           "bgcolor": "white",
           "lakecolor": "white",
           "landcolor": "#E5ECF6",
           "showlakes": true,
           "showland": true,
           "subunitcolor": "white"
          },
          "hoverlabel": {
           "align": "left"
          },
          "hovermode": "closest",
          "mapbox": {
           "style": "light"
          },
          "paper_bgcolor": "white",
          "plot_bgcolor": "#E5ECF6",
          "polar": {
           "angularaxis": {
            "gridcolor": "white",
            "linecolor": "white",
            "ticks": ""
           },
           "bgcolor": "#E5ECF6",
           "radialaxis": {
            "gridcolor": "white",
            "linecolor": "white",
            "ticks": ""
           }
          },
          "scene": {
           "xaxis": {
            "backgroundcolor": "#E5ECF6",
            "gridcolor": "white",
            "gridwidth": 2,
            "linecolor": "white",
            "showbackground": true,
            "ticks": "",
            "zerolinecolor": "white"
           },
           "yaxis": {
            "backgroundcolor": "#E5ECF6",
            "gridcolor": "white",
            "gridwidth": 2,
            "linecolor": "white",
            "showbackground": true,
            "ticks": "",
            "zerolinecolor": "white"
           },
           "zaxis": {
            "backgroundcolor": "#E5ECF6",
            "gridcolor": "white",
            "gridwidth": 2,
            "linecolor": "white",
            "showbackground": true,
            "ticks": "",
            "zerolinecolor": "white"
           }
          },
          "shapedefaults": {
           "line": {
            "color": "#2a3f5f"
           }
          },
          "ternary": {
           "aaxis": {
            "gridcolor": "white",
            "linecolor": "white",
            "ticks": ""
           },
           "baxis": {
            "gridcolor": "white",
            "linecolor": "white",
            "ticks": ""
           },
           "bgcolor": "#E5ECF6",
           "caxis": {
            "gridcolor": "white",
            "linecolor": "white",
            "ticks": ""
           }
          },
          "title": {
           "x": 0.05
          },
          "xaxis": {
           "automargin": true,
           "gridcolor": "white",
           "linecolor": "white",
           "ticks": "",
           "title": {
            "standoff": 15
           },
           "zerolinecolor": "white",
           "zerolinewidth": 2
          },
          "yaxis": {
           "automargin": true,
           "gridcolor": "white",
           "linecolor": "white",
           "ticks": "",
           "title": {
            "standoff": 15
           },
           "zerolinecolor": "white",
           "zerolinewidth": 2
          }
         }
        },
        "title": {
         "font": {
          "size": 12
         },
         "text": "Complaints by Borough",
         "x": 0.5
        },
        "width": 350
       }
      }
     },
     "metadata": {},
     "output_type": "display_data"
    }
   ],
   "source": [
    "import plotly.express as px\n",
    "import pandas as pd\n",
    "\n",
    "# Filter out null boroughs\n",
    "df_clean = df[df['BORO_NM'] != '(null)']\n",
    "\n",
    "# Count complaints per borough\n",
    "sizes = df_clean['BORO_NM'].value_counts().reset_index()\n",
    "sizes.columns = ['Borough', 'Count']\n",
    "\n",
    "colors = ['#a8dadc', '#457b9d', '#74c69d', '#b5ead7', '#9ad0ec']\n",
    "\n",
    "# Create pie chart\n",
    "fig = px.pie(\n",
    "    sizes,\n",
    "    names='Borough',\n",
    "    values='Count',\n",
    "    color_discrete_sequence=colors,\n",
    "    hole=0.4  \n",
    "\n",
    "fig.update_traces(\n",
    "    textinfo='percent',  \n",
    "    pull=[0.02] * len(sizes),\n",
    "    textfont_size=10\n",
    ")\n",
    "\n",
    "# Layout tuning\n",
    "fig.update_layout(\n",
    "    title_text=\"Complaints by Borough\",\n",
    "    title_font=dict(size=12),\n",
    "    title_x=0.5,\n",
    "    showlegend=True,  \n",
    "    margin=dict(t=30, b=30, l=10, r=10),\n",
    "    width=350,\n",
    "    height=350\n",
    ")\n",
    "\n",
    "fig.write_html(\"../images/borough_complaints_pie.html\")\n",
    "fig.show()\n"
   ]
  },
  {
   "cell_type": "code",
   "execution_count": 215,
   "metadata": {},
   "outputs": [
    {
     "data": {
      "application/vnd.plotly.v1+json": {
       "config": {
        "plotlyServerURL": "https://plot.ly"
       },
       "data": [
        {
         "hovertemplate": "<b>%{y}</b><br>Population: %{text}<extra></extra>",
         "marker": {
          "color": "#457b9d"
         },
         "orientation": "h",
         "text": [
          "492,925 (5.8%)",
          "1,356,476 (15.8%)",
          "1,645,867 (19.2%)",
          "2,388,864 (27.9%)",
          "2,679,620 (31.3%)"
         ],
         "type": "bar",
         "x": {
          "bdata": "fYUHALyyFAArHRkAgHMkAETjKAA=",
          "dtype": "i4"
         },
         "y": [
          "STATEN ISLAND",
          "BRONX",
          "MANHATTAN",
          "QUEENS",
          "BROOKLYN"
         ]
        }
       ],
       "layout": {
        "height": 300,
        "margin": {
         "l": 30,
         "r": 30,
         "t": 50
        },
        "plot_bgcolor": "white",
        "template": {
         "data": {
          "bar": [
           {
            "error_x": {
             "color": "#2a3f5f"
            },
            "error_y": {
             "color": "#2a3f5f"
            },
            "marker": {
             "line": {
              "color": "#E5ECF6",
              "width": 0.5
             },
             "pattern": {
              "fillmode": "overlay",
              "size": 10,
              "solidity": 0.2
             }
            },
            "type": "bar"
           }
          ],
          "barpolar": [
           {
            "marker": {
             "line": {
              "color": "#E5ECF6",
              "width": 0.5
             },
             "pattern": {
              "fillmode": "overlay",
              "size": 10,
              "solidity": 0.2
             }
            },
            "type": "barpolar"
           }
          ],
          "carpet": [
           {
            "aaxis": {
             "endlinecolor": "#2a3f5f",
             "gridcolor": "white",
             "linecolor": "white",
             "minorgridcolor": "white",
             "startlinecolor": "#2a3f5f"
            },
            "baxis": {
             "endlinecolor": "#2a3f5f",
             "gridcolor": "white",
             "linecolor": "white",
             "minorgridcolor": "white",
             "startlinecolor": "#2a3f5f"
            },
            "type": "carpet"
           }
          ],
          "choropleth": [
           {
            "colorbar": {
             "outlinewidth": 0,
             "ticks": ""
            },
            "type": "choropleth"
           }
          ],
          "contour": [
           {
            "colorbar": {
             "outlinewidth": 0,
             "ticks": ""
            },
            "colorscale": [
             [
              0,
              "#0d0887"
             ],
             [
              0.1111111111111111,
              "#46039f"
             ],
             [
              0.2222222222222222,
              "#7201a8"
             ],
             [
              0.3333333333333333,
              "#9c179e"
             ],
             [
              0.4444444444444444,
              "#bd3786"
             ],
             [
              0.5555555555555556,
              "#d8576b"
             ],
             [
              0.6666666666666666,
              "#ed7953"
             ],
             [
              0.7777777777777778,
              "#fb9f3a"
             ],
             [
              0.8888888888888888,
              "#fdca26"
             ],
             [
              1,
              "#f0f921"
             ]
            ],
            "type": "contour"
           }
          ],
          "contourcarpet": [
           {
            "colorbar": {
             "outlinewidth": 0,
             "ticks": ""
            },
            "type": "contourcarpet"
           }
          ],
          "heatmap": [
           {
            "colorbar": {
             "outlinewidth": 0,
             "ticks": ""
            },
            "colorscale": [
             [
              0,
              "#0d0887"
             ],
             [
              0.1111111111111111,
              "#46039f"
             ],
             [
              0.2222222222222222,
              "#7201a8"
             ],
             [
              0.3333333333333333,
              "#9c179e"
             ],
             [
              0.4444444444444444,
              "#bd3786"
             ],
             [
              0.5555555555555556,
              "#d8576b"
             ],
             [
              0.6666666666666666,
              "#ed7953"
             ],
             [
              0.7777777777777778,
              "#fb9f3a"
             ],
             [
              0.8888888888888888,
              "#fdca26"
             ],
             [
              1,
              "#f0f921"
             ]
            ],
            "type": "heatmap"
           }
          ],
          "histogram": [
           {
            "marker": {
             "pattern": {
              "fillmode": "overlay",
              "size": 10,
              "solidity": 0.2
             }
            },
            "type": "histogram"
           }
          ],
          "histogram2d": [
           {
            "colorbar": {
             "outlinewidth": 0,
             "ticks": ""
            },
            "colorscale": [
             [
              0,
              "#0d0887"
             ],
             [
              0.1111111111111111,
              "#46039f"
             ],
             [
              0.2222222222222222,
              "#7201a8"
             ],
             [
              0.3333333333333333,
              "#9c179e"
             ],
             [
              0.4444444444444444,
              "#bd3786"
             ],
             [
              0.5555555555555556,
              "#d8576b"
             ],
             [
              0.6666666666666666,
              "#ed7953"
             ],
             [
              0.7777777777777778,
              "#fb9f3a"
             ],
             [
              0.8888888888888888,
              "#fdca26"
             ],
             [
              1,
              "#f0f921"
             ]
            ],
            "type": "histogram2d"
           }
          ],
          "histogram2dcontour": [
           {
            "colorbar": {
             "outlinewidth": 0,
             "ticks": ""
            },
            "colorscale": [
             [
              0,
              "#0d0887"
             ],
             [
              0.1111111111111111,
              "#46039f"
             ],
             [
              0.2222222222222222,
              "#7201a8"
             ],
             [
              0.3333333333333333,
              "#9c179e"
             ],
             [
              0.4444444444444444,
              "#bd3786"
             ],
             [
              0.5555555555555556,
              "#d8576b"
             ],
             [
              0.6666666666666666,
              "#ed7953"
             ],
             [
              0.7777777777777778,
              "#fb9f3a"
             ],
             [
              0.8888888888888888,
              "#fdca26"
             ],
             [
              1,
              "#f0f921"
             ]
            ],
            "type": "histogram2dcontour"
           }
          ],
          "mesh3d": [
           {
            "colorbar": {
             "outlinewidth": 0,
             "ticks": ""
            },
            "type": "mesh3d"
           }
          ],
          "parcoords": [
           {
            "line": {
             "colorbar": {
              "outlinewidth": 0,
              "ticks": ""
             }
            },
            "type": "parcoords"
           }
          ],
          "pie": [
           {
            "automargin": true,
            "type": "pie"
           }
          ],
          "scatter": [
           {
            "fillpattern": {
             "fillmode": "overlay",
             "size": 10,
             "solidity": 0.2
            },
            "type": "scatter"
           }
          ],
          "scatter3d": [
           {
            "line": {
             "colorbar": {
              "outlinewidth": 0,
              "ticks": ""
             }
            },
            "marker": {
             "colorbar": {
              "outlinewidth": 0,
              "ticks": ""
             }
            },
            "type": "scatter3d"
           }
          ],
          "scattercarpet": [
           {
            "marker": {
             "colorbar": {
              "outlinewidth": 0,
              "ticks": ""
             }
            },
            "type": "scattercarpet"
           }
          ],
          "scattergeo": [
           {
            "marker": {
             "colorbar": {
              "outlinewidth": 0,
              "ticks": ""
             }
            },
            "type": "scattergeo"
           }
          ],
          "scattergl": [
           {
            "marker": {
             "colorbar": {
              "outlinewidth": 0,
              "ticks": ""
             }
            },
            "type": "scattergl"
           }
          ],
          "scattermap": [
           {
            "marker": {
             "colorbar": {
              "outlinewidth": 0,
              "ticks": ""
             }
            },
            "type": "scattermap"
           }
          ],
          "scattermapbox": [
           {
            "marker": {
             "colorbar": {
              "outlinewidth": 0,
              "ticks": ""
             }
            },
            "type": "scattermapbox"
           }
          ],
          "scatterpolar": [
           {
            "marker": {
             "colorbar": {
              "outlinewidth": 0,
              "ticks": ""
             }
            },
            "type": "scatterpolar"
           }
          ],
          "scatterpolargl": [
           {
            "marker": {
             "colorbar": {
              "outlinewidth": 0,
              "ticks": ""
             }
            },
            "type": "scatterpolargl"
           }
          ],
          "scatterternary": [
           {
            "marker": {
             "colorbar": {
              "outlinewidth": 0,
              "ticks": ""
             }
            },
            "type": "scatterternary"
           }
          ],
          "surface": [
           {
            "colorbar": {
             "outlinewidth": 0,
             "ticks": ""
            },
            "colorscale": [
             [
              0,
              "#0d0887"
             ],
             [
              0.1111111111111111,
              "#46039f"
             ],
             [
              0.2222222222222222,
              "#7201a8"
             ],
             [
              0.3333333333333333,
              "#9c179e"
             ],
             [
              0.4444444444444444,
              "#bd3786"
             ],
             [
              0.5555555555555556,
              "#d8576b"
             ],
             [
              0.6666666666666666,
              "#ed7953"
             ],
             [
              0.7777777777777778,
              "#fb9f3a"
             ],
             [
              0.8888888888888888,
              "#fdca26"
             ],
             [
              1,
              "#f0f921"
             ]
            ],
            "type": "surface"
           }
          ],
          "table": [
           {
            "cells": {
             "fill": {
              "color": "#EBF0F8"
             },
             "line": {
              "color": "white"
             }
            },
            "header": {
             "fill": {
              "color": "#C8D4E3"
             },
             "line": {
              "color": "white"
             }
            },
            "type": "table"
           }
          ]
         },
         "layout": {
          "annotationdefaults": {
           "arrowcolor": "#2a3f5f",
           "arrowhead": 0,
           "arrowwidth": 1
          },
          "autotypenumbers": "strict",
          "coloraxis": {
           "colorbar": {
            "outlinewidth": 0,
            "ticks": ""
           }
          },
          "colorscale": {
           "diverging": [
            [
             0,
             "#8e0152"
            ],
            [
             0.1,
             "#c51b7d"
            ],
            [
             0.2,
             "#de77ae"
            ],
            [
             0.3,
             "#f1b6da"
            ],
            [
             0.4,
             "#fde0ef"
            ],
            [
             0.5,
             "#f7f7f7"
            ],
            [
             0.6,
             "#e6f5d0"
            ],
            [
             0.7,
             "#b8e186"
            ],
            [
             0.8,
             "#7fbc41"
            ],
            [
             0.9,
             "#4d9221"
            ],
            [
             1,
             "#276419"
            ]
           ],
           "sequential": [
            [
             0,
             "#0d0887"
            ],
            [
             0.1111111111111111,
             "#46039f"
            ],
            [
             0.2222222222222222,
             "#7201a8"
            ],
            [
             0.3333333333333333,
             "#9c179e"
            ],
            [
             0.4444444444444444,
             "#bd3786"
            ],
            [
             0.5555555555555556,
             "#d8576b"
            ],
            [
             0.6666666666666666,
             "#ed7953"
            ],
            [
             0.7777777777777778,
             "#fb9f3a"
            ],
            [
             0.8888888888888888,
             "#fdca26"
            ],
            [
             1,
             "#f0f921"
            ]
           ],
           "sequentialminus": [
            [
             0,
             "#0d0887"
            ],
            [
             0.1111111111111111,
             "#46039f"
            ],
            [
             0.2222222222222222,
             "#7201a8"
            ],
            [
             0.3333333333333333,
             "#9c179e"
            ],
            [
             0.4444444444444444,
             "#bd3786"
            ],
            [
             0.5555555555555556,
             "#d8576b"
            ],
            [
             0.6666666666666666,
             "#ed7953"
            ],
            [
             0.7777777777777778,
             "#fb9f3a"
            ],
            [
             0.8888888888888888,
             "#fdca26"
            ],
            [
             1,
             "#f0f921"
            ]
           ]
          },
          "colorway": [
           "#636efa",
           "#EF553B",
           "#00cc96",
           "#ab63fa",
           "#FFA15A",
           "#19d3f3",
           "#FF6692",
           "#B6E880",
           "#FF97FF",
           "#FECB52"
          ],
          "font": {
           "color": "#2a3f5f"
          },
          "geo": {
           "bgcolor": "white",
           "lakecolor": "white",
           "landcolor": "#E5ECF6",
           "showlakes": true,
           "showland": true,
           "subunitcolor": "white"
          },
          "hoverlabel": {
           "align": "left"
          },
          "hovermode": "closest",
          "mapbox": {
           "style": "light"
          },
          "paper_bgcolor": "white",
          "plot_bgcolor": "#E5ECF6",
          "polar": {
           "angularaxis": {
            "gridcolor": "white",
            "linecolor": "white",
            "ticks": ""
           },
           "bgcolor": "#E5ECF6",
           "radialaxis": {
            "gridcolor": "white",
            "linecolor": "white",
            "ticks": ""
           }
          },
          "scene": {
           "xaxis": {
            "backgroundcolor": "#E5ECF6",
            "gridcolor": "white",
            "gridwidth": 2,
            "linecolor": "white",
            "showbackground": true,
            "ticks": "",
            "zerolinecolor": "white"
           },
           "yaxis": {
            "backgroundcolor": "#E5ECF6",
            "gridcolor": "white",
            "gridwidth": 2,
            "linecolor": "white",
            "showbackground": true,
            "ticks": "",
            "zerolinecolor": "white"
           },
           "zaxis": {
            "backgroundcolor": "#E5ECF6",
            "gridcolor": "white",
            "gridwidth": 2,
            "linecolor": "white",
            "showbackground": true,
            "ticks": "",
            "zerolinecolor": "white"
           }
          },
          "shapedefaults": {
           "line": {
            "color": "#2a3f5f"
           }
          },
          "ternary": {
           "aaxis": {
            "gridcolor": "white",
            "linecolor": "white",
            "ticks": ""
           },
           "baxis": {
            "gridcolor": "white",
            "linecolor": "white",
            "ticks": ""
           },
           "bgcolor": "#E5ECF6",
           "caxis": {
            "gridcolor": "white",
            "linecolor": "white",
            "ticks": ""
           }
          },
          "title": {
           "x": 0.05
          },
          "xaxis": {
           "automargin": true,
           "gridcolor": "white",
           "linecolor": "white",
           "ticks": "",
           "title": {
            "standoff": 15
           },
           "zerolinecolor": "white",
           "zerolinewidth": 2
          },
          "yaxis": {
           "automargin": true,
           "gridcolor": "white",
           "linecolor": "white",
           "ticks": "",
           "title": {
            "standoff": 15
           },
           "zerolinecolor": "white",
           "zerolinewidth": 2
          }
         }
        },
        "title": {
         "font": {
          "size": 14
         },
         "text": "Population by Borough",
         "x": 0.5
        },
        "width": 400,
        "xaxis": {
         "title": {
          "text": "Population"
         }
        },
        "yaxis": {
         "title": {
          "text": "Borough"
         }
        }
       }
      }
     },
     "metadata": {},
     "output_type": "display_data"
    }
   ],
   "source": [
    "import plotly.graph_objects as go\n",
    "import pandas as pd\n",
    "\n",
    "# Clean and prepare data\n",
    "df_clean = df[df['BORO_NM'] != '(null)']\n",
    "sizes = df_clean['BORO_NM'].value_counts().reset_index()\n",
    "sizes.columns = ['Borough', 'Count']\n",
    "\n",
    "sizes[\"Population\"] = sizes['Borough'].map({\n",
    "    'BROOKLYN': 2679620,\n",
    "    'QUEENS': 2388864,\n",
    "    'MANHATTAN': 1645867,\n",
    "    'BRONX': 1356476,\n",
    "    'STATEN ISLAND': 492925\n",
    "})\n",
    "\n",
    "sizes[\"Population %\"] = (sizes[\"Population\"] / sizes[\"Population\"].sum()) * 100\n",
    "sizes_sorted = sizes.sort_values(\"Population\", ascending=True)\n",
    "\n",
    "# Create figure from the Bar trace\n",
    "fig = go.Figure(\n",
    "    data=go.Bar(\n",
    "        x=sizes_sorted['Population'],\n",
    "        y=sizes_sorted['Borough'],\n",
    "        orientation='h',\n",
    "        marker_color='#457b9d',\n",
    "        text=[f\"{pop:,.0f} ({pct:.1f}%)\" for pop, pct in zip(sizes_sorted['Population'], sizes_sorted['Population %'])],\n",
    "        hovertemplate='<b>%{y}</b><br>Population: %{text}<extra></extra>'\n",
    "    )\n",
    ")\n",
    "\n",
    "fig.update_layout(\n",
    "    height=300,\n",
    "    width=400,\n",
    "    title_x=0.5,\n",
    "    title_text=\"Population by Borough\",\n",
    "    plot_bgcolor='white',\n",
    "    xaxis_title=\"Population\",\n",
    "    yaxis_title=\"Borough\",\n",
    "    margin=dict(t=50, r=30, l=30),\n",
    "    title_font=dict(size=14)\n",
    ")\n",
    "\n",
    "fig.write_html(\"../images/population_bar.html\")\n",
    "fig.show()\n"
   ]
  },
  {
   "cell_type": "code",
   "execution_count": 217,
   "metadata": {},
   "outputs": [
    {
     "name": "stdout",
     "output_type": "stream",
     "text": [
      "Brooklyn population percentage: 31.29%\n",
      "Queens population percentage: 27.90%\n",
      "Manhattan population percentage: 19.22%\n",
      "Bronx population percentage: 15.84%\n",
      "Staten Island population percentage: 5.76%\n"
     ]
    }
   ],
   "source": [
    "Brooklyn= 2679620\n",
    "Queens= 2388864\n",
    "Manhattan= 1645867\n",
    "Bronx= 1356476\n",
    "Staten_Island=492925\n",
    "\n",
    "total_pop = Brooklyn + Queens + Manhattan + Bronx + Staten_Island\n",
    "Staten_Island_perc = Staten_Island / total_pop * 100\n",
    "Brooklyn_perc = Brooklyn / total_pop * 100\n",
    "Queens_perc = Queens / total_pop * 100\n",
    "Manhattan_perc = Manhattan / total_pop * 100\n",
    "Bronx_perc = Bronx / total_pop * 100\n",
    "print(f\"Brooklyn population percentage: {Brooklyn_perc:.2f}%\")\n",
    "print(f\"Queens population percentage: {Queens_perc:.2f}%\")\n",
    "print(f\"Manhattan population percentage: {Manhattan_perc:.2f}%\")\n",
    "print(f\"Bronx population percentage: {Bronx_perc:.2f}%\")\n",
    "print(f\"Staten Island population percentage: {Staten_Island_perc:.2f}%\")"
   ]
  },
  {
   "cell_type": "code",
   "execution_count": 218,
   "metadata": {},
   "outputs": [],
   "source": [
    "sizes[\"Population\"] = sizes['Borough'].map({\n",
    "    'BROOKLYN': Brooklyn,\n",
    "    'QUEENS': Queens,\n",
    "    'MANHATTAN': Manhattan,\n",
    "    'BRONX': Bronx,\n",
    "    'STATEN ISLAND': Staten_Island\n",
    "})\n"
   ]
  },
  {
   "cell_type": "code",
   "execution_count": 220,
   "metadata": {},
   "outputs": [
    {
     "name": "stdout",
     "output_type": "stream",
     "text": [
      "Pearson correlation has a coefficient of 0.829 with a p-value of 0.0829.\n"
     ]
    }
   ],
   "source": [
    "sizes.Count.corr(sizes.Population)\n",
    "from scipy import stats\n",
    "pearson = stats.pearsonr(sizes['Count'],sizes['Population'])\n",
    "print(f\"Pearson correlation has a coefficient of {pearson[0]:.3} with a p-value of {pearson[1]:.3}.\")"
   ]
  },
  {
   "cell_type": "markdown",
   "metadata": {},
   "source": [
    "## Time evolution"
   ]
  },
  {
   "cell_type": "code",
   "execution_count": 221,
   "metadata": {},
   "outputs": [
    {
     "data": {
      "image/png": "[encoded data removed]",
      "text/plain": [
       "<Figure size 1400x700 with 1 Axes>"
      ]
     },
     "metadata": {},
     "output_type": "display_data"
    }
   ],
   "source": [
    "df_year = df.groupby('year_begin').agg(\n",
    "    nb_crimes=('year_begin', 'size')\n",
    ").reset_index()\n",
    "\n",
    "#Crop from 2006 not enough data\n",
    "df_year = df_year.query(\"year_begin >= 2006\")\n",
    "\n",
    "\n",
    "plt.figure(figsize=(14, 7))\n",
    "\n",
    "plt.plot(df_year[\"year_begin\"], df_year[\"nb_crimes\"] / 1e4,\n",
    "         marker='o', linestyle='-', color='salmon', linewidth=3, markersize=7, label='Crime Count')\n",
    "\n",
    "# X-axis labels: show every year, rotate for readability\n",
    "plt.xticks(df_year[\"year_begin\"], rotation=45, fontsize=14)\n",
    "plt.yticks(fontsize=14)\n",
    "\n",
    "# Labels and title with larger font sizes\n",
    "plt.xlabel(\"Year\", fontsize=16)\n",
    "plt.ylabel(\"Crime Count (×10⁴)\", fontsize=16)\n",
    "plt.title(\"Evolution of Crime Occurrence in NYC Through the Years\", fontsize=20)\n",
    "\n",
    "# Grid and optional legend\n",
    "plt.grid(axis=\"y\", linestyle=\"--\", alpha=0.7)\n",
    "plt.legend(fontsize=14)\n",
    "\n",
    "plt.tight_layout()\n",
    "plt.show()\n"
   ]
  },
  {
   "cell_type": "markdown",
   "metadata": {},
   "source": [
    "## Most dangerous districts"
   ]
  },
  {
   "cell_type": "code",
   "execution_count": 223,
   "metadata": {},
   "outputs": [],
   "source": [
    "data_district_df = pd.read_csv(\"../../data/data_district_df.csv\")"
   ]
  },
  {
   "cell_type": "code",
   "execution_count": 224,
   "metadata": {},
   "outputs": [],
   "source": [
    "\n",
    "data_district_df[\"Crime_Rank\"] = data_district_df[\"total_crimes\"].rank(ascending=False, method='min').astype(int)\n",
    "data_district_df[\"Employ_Rank\"] = (\n",
    "    data_district_df[\"Employement_pop_ratio_mean\"]\n",
    "    .rank(ascending=False, method='min')\n",
    "    .fillna(-1)  # Optional: mark missing with -1 or another indicator\n",
    "    .astype(int)\n",
    ")\n",
    "\n",
    "data_district_df[\"FPL_Rank\"] = data_district_df[\"individuals_below_FPL_mean\"].rank(ascending=True, method='min').fillna(-1).astype(int)"
   ]
  },
  {
   "cell_type": "code",
   "execution_count": 225,
   "metadata": {},
   "outputs": [
    {
     "data": {
      "text/html": [
       "<div>\n",
       "<style scoped>\n",
       "    .dataframe tbody tr th:only-of-type {\n",
       "        vertical-align: middle;\n",
       "    }\n",
       "\n",
       "    .dataframe tbody tr th {\n",
       "        vertical-align: top;\n",
       "    }\n",
       "\n",
       "    .dataframe thead th {\n",
       "        text-align: right;\n",
       "    }\n",
       "</style>\n",
       "<table border=\"1\" class=\"dataframe\">\n",
       "  <thead>\n",
       "    <tr style=\"text-align: right;\">\n",
       "      <th></th>\n",
       "      <th>District_Code</th>\n",
       "      <th>main_crimes</th>\n",
       "      <th>total_crimes</th>\n",
       "      <th>District</th>\n",
       "      <th>individuals_below_FPL_median</th>\n",
       "      <th>individuals_below_FPL_mean</th>\n",
       "      <th>individuals_below_FPL_std</th>\n",
       "      <th>Employement_pop_ratio_median</th>\n",
       "      <th>Employement_pop_ratio_mean</th>\n",
       "      <th>Employement_pop_ratio_std</th>\n",
       "      <th>Crime_Rank</th>\n",
       "      <th>Employ_Rank</th>\n",
       "      <th>FPL_Rank</th>\n",
       "    </tr>\n",
       "  </thead>\n",
       "  <tbody>\n",
       "    <tr>\n",
       "      <th>4</th>\n",
       "      <td>105</td>\n",
       "      <td>{'Minor Theft': 111045, 'Major Theft': 73979, 'Physical Assault': 27720, 'Harassment': 24932, 'Public Disturbance': 15984}</td>\n",
       "      <td>309151</td>\n",
       "      <td>Midtown Business District</td>\n",
       "      <td>0.13027</td>\n",
       "      <td>0.127174</td>\n",
       "      <td>0.015678</td>\n",
       "      <td>0.7075</td>\n",
       "      <td>0.677218</td>\n",
       "      <td>0.123798</td>\n",
       "      <td>1</td>\n",
       "      <td>7</td>\n",
       "      <td>18</td>\n",
       "    </tr>\n",
       "    <tr>\n",
       "      <th>59</th>\n",
       "      <td>412</td>\n",
       "      <td>{'Physical Assault': 49371, 'Minor Theft': 41132, 'Harassment': 36859, 'Vandalism': 29008, 'Major Theft': 26228}</td>\n",
       "      <td>261626</td>\n",
       "      <td>Jamaica/St. Albans</td>\n",
       "      <td>0.13156</td>\n",
       "      <td>0.137926</td>\n",
       "      <td>0.026787</td>\n",
       "      <td>0.5790</td>\n",
       "      <td>0.579412</td>\n",
       "      <td>0.022826</td>\n",
       "      <td>2</td>\n",
       "      <td>24</td>\n",
       "      <td>21</td>\n",
       "    </tr>\n",
       "    <tr>\n",
       "      <th>32</th>\n",
       "      <td>305</td>\n",
       "      <td>{'Physical Assault': 51265, 'Minor Theft': 36468, 'Harassment': 35609, 'Vandalism': 27347, 'Major Theft': 23535}</td>\n",
       "      <td>251024</td>\n",
       "      <td>East New York</td>\n",
       "      <td>0.28431</td>\n",
       "      <td>0.277157</td>\n",
       "      <td>0.041395</td>\n",
       "      <td>0.5120</td>\n",
       "      <td>0.507765</td>\n",
       "      <td>0.034604</td>\n",
       "      <td>3</td>\n",
       "      <td>52</td>\n",
       "      <td>47</td>\n",
       "    </tr>\n",
       "  </tbody>\n",
       "</table>\n",
       "</div>"
      ],
      "text/plain": [
       "    District_Code  \\\n",
       "4             105   \n",
       "59            412   \n",
       "32            305   \n",
       "\n",
       "                                                                                                                   main_crimes  \\\n",
       "4   {'Minor Theft': 111045, 'Major Theft': 73979, 'Physical Assault': 27720, 'Harassment': 24932, 'Public Disturbance': 15984}   \n",
       "59            {'Physical Assault': 49371, 'Minor Theft': 41132, 'Harassment': 36859, 'Vandalism': 29008, 'Major Theft': 26228}   \n",
       "32            {'Physical Assault': 51265, 'Minor Theft': 36468, 'Harassment': 35609, 'Vandalism': 27347, 'Major Theft': 23535}   \n",
       "\n",
       "    total_crimes                   District  individuals_below_FPL_median  \\\n",
       "4         309151  Midtown Business District                       0.13027   \n",
       "59        261626         Jamaica/St. Albans                       0.13156   \n",
       "32        251024              East New York                       0.28431   \n",
       "\n",
       "    individuals_below_FPL_mean  individuals_below_FPL_std  \\\n",
       "4                     0.127174                   0.015678   \n",
       "59                    0.137926                   0.026787   \n",
       "32                    0.277157                   0.041395   \n",
       "\n",
       "    Employement_pop_ratio_median  Employement_pop_ratio_mean  \\\n",
       "4                         0.7075                    0.677218   \n",
       "59                        0.5790                    0.579412   \n",
       "32                        0.5120                    0.507765   \n",
       "\n",
       "    Employement_pop_ratio_std  Crime_Rank  Employ_Rank  FPL_Rank  \n",
       "4                    0.123798           1            7        18  \n",
       "59                   0.022826           2           24        21  \n",
       "32                   0.034604           3           52        47  "
      ]
     },
     "execution_count": 225,
     "metadata": {},
     "output_type": "execute_result"
    }
   ],
   "source": [
    "data_district_df.sort_values(by= \"total_crimes\", ascending=False)[:3]"
   ]
  },
  {
   "cell_type": "code",
   "execution_count": null,
   "metadata": {},
   "outputs": [],
   "source": [
    "# Replace -1 with NaN for filtering\n",
    "data_district_df[\"Employ_Rank\"] = data_district_df[\"Employ_Rank\"].replace(-1, np.nan)\n",
    "\n",
    "sorted_df = data_district_df.sort_values(by=\"total_crimes\", ascending=False)\n",
    "\n",
    "# Now get first, middle, last\n",
    "first = sorted_df.iloc[0]\n",
    "middle = sorted_df.iloc[len(sorted_df) // 2]\n",
    "last = sorted_df.iloc[-1]\n",
    "\n",
    "result_df = sorted_df.iloc[[0, len(sorted_df) // 2, -1]]\n"
   ]
  },
  {
   "cell_type": "code",
   "execution_count": 227,
   "metadata": {},
   "outputs": [
    {
     "data": {
      "text/html": [
       "<div>\n",
       "<style scoped>\n",
       "    .dataframe tbody tr th:only-of-type {\n",
       "        vertical-align: middle;\n",
       "    }\n",
       "\n",
       "    .dataframe tbody tr th {\n",
       "        vertical-align: top;\n",
       "    }\n",
       "\n",
       "    .dataframe thead th {\n",
       "        text-align: right;\n",
       "    }\n",
       "</style>\n",
       "<table border=\"1\" class=\"dataframe\">\n",
       "  <thead>\n",
       "    <tr style=\"text-align: right;\">\n",
       "      <th></th>\n",
       "      <th>District_Code</th>\n",
       "      <th>main_crimes</th>\n",
       "      <th>total_crimes</th>\n",
       "      <th>District</th>\n",
       "      <th>individuals_below_FPL_median</th>\n",
       "      <th>individuals_below_FPL_mean</th>\n",
       "      <th>individuals_below_FPL_std</th>\n",
       "      <th>Employement_pop_ratio_median</th>\n",
       "      <th>Employement_pop_ratio_mean</th>\n",
       "      <th>Employement_pop_ratio_std</th>\n",
       "      <th>Crime_Rank</th>\n",
       "      <th>Employ_Rank</th>\n",
       "      <th>FPL_Rank</th>\n",
       "    </tr>\n",
       "  </thead>\n",
       "  <tbody>\n",
       "    <tr>\n",
       "      <th>4</th>\n",
       "      <td>105</td>\n",
       "      <td>{'Minor Theft': 111045, 'Major Theft': 73979, 'Physical Assault': 27720, 'Harassment': 24932, 'Public Disturbance': 15984}</td>\n",
       "      <td>309151</td>\n",
       "      <td>Midtown Business District</td>\n",
       "      <td>0.13027</td>\n",
       "      <td>0.127174</td>\n",
       "      <td>0.015678</td>\n",
       "      <td>0.7075</td>\n",
       "      <td>0.677218</td>\n",
       "      <td>0.123798</td>\n",
       "      <td>1</td>\n",
       "      <td>7.0</td>\n",
       "      <td>18</td>\n",
       "    </tr>\n",
       "    <tr>\n",
       "      <th>35</th>\n",
       "      <td>308</td>\n",
       "      <td>{'Physical Assault': 20252, 'Harassment': 16682, 'Minor Theft': 16625, 'Drug Offenses': 12354, 'Vandalism': 11708}</td>\n",
       "      <td>109430</td>\n",
       "      <td>Crown Heights North</td>\n",
       "      <td>0.23809</td>\n",
       "      <td>0.230166</td>\n",
       "      <td>0.038329</td>\n",
       "      <td>0.5950</td>\n",
       "      <td>0.600412</td>\n",
       "      <td>0.040637</td>\n",
       "      <td>36</td>\n",
       "      <td>17.0</td>\n",
       "      <td>38</td>\n",
       "    </tr>\n",
       "    <tr>\n",
       "      <th>66</th>\n",
       "      <td>484</td>\n",
       "      <td>{'Vandalism': 43, 'Major Theft': 32, 'Minor Theft': 27, 'Harassment': 26, 'Physical Assault': 24}</td>\n",
       "      <td>197</td>\n",
       "      <td>Jamaica Bay Park</td>\n",
       "      <td>NaN</td>\n",
       "      <td>NaN</td>\n",
       "      <td>NaN</td>\n",
       "      <td>NaN</td>\n",
       "      <td>NaN</td>\n",
       "      <td>NaN</td>\n",
       "      <td>71</td>\n",
       "      <td>NaN</td>\n",
       "      <td>-1</td>\n",
       "    </tr>\n",
       "  </tbody>\n",
       "</table>\n",
       "</div>"
      ],
      "text/plain": [
       "    District_Code  \\\n",
       "4             105   \n",
       "35            308   \n",
       "66            484   \n",
       "\n",
       "                                                                                                                   main_crimes  \\\n",
       "4   {'Minor Theft': 111045, 'Major Theft': 73979, 'Physical Assault': 27720, 'Harassment': 24932, 'Public Disturbance': 15984}   \n",
       "35          {'Physical Assault': 20252, 'Harassment': 16682, 'Minor Theft': 16625, 'Drug Offenses': 12354, 'Vandalism': 11708}   \n",
       "66                           {'Vandalism': 43, 'Major Theft': 32, 'Minor Theft': 27, 'Harassment': 26, 'Physical Assault': 24}   \n",
       "\n",
       "    total_crimes                   District  individuals_below_FPL_median  \\\n",
       "4         309151  Midtown Business District                       0.13027   \n",
       "35        109430        Crown Heights North                       0.23809   \n",
       "66           197           Jamaica Bay Park                           NaN   \n",
       "\n",
       "    individuals_below_FPL_mean  individuals_below_FPL_std  \\\n",
       "4                     0.127174                   0.015678   \n",
       "35                    0.230166                   0.038329   \n",
       "66                         NaN                        NaN   \n",
       "\n",
       "    Employement_pop_ratio_median  Employement_pop_ratio_mean  \\\n",
       "4                         0.7075                    0.677218   \n",
       "35                        0.5950                    0.600412   \n",
       "66                           NaN                         NaN   \n",
       "\n",
       "    Employement_pop_ratio_std  Crime_Rank  Employ_Rank  FPL_Rank  \n",
       "4                    0.123798           1          7.0        18  \n",
       "35                   0.040637          36         17.0        38  \n",
       "66                        NaN          71          NaN        -1  "
      ]
     },
     "execution_count": 227,
     "metadata": {},
     "output_type": "execute_result"
    }
   ],
   "source": [
    "pd.set_option('display.max_colwidth', None)\n",
    "\n",
    "result_df.head()"
   ]
  },
  {
   "cell_type": "code",
   "execution_count": 228,
   "metadata": {},
   "outputs": [
    {
     "name": "stdout",
     "output_type": "stream",
     "text": [
      "41    {'Minor Theft': 24210, 'Physical Assault': 21604, 'Harassment': 16273, 'Major Theft': 13942, 'Vandalism': 12367}\n",
      "Name: main_crimes, dtype: object\n"
     ]
    }
   ],
   "source": [
    "#see main crimes of Flatbush/Midwood\t\n",
    "flatbush_midwood = data_district_df[data_district_df['District'] == 'Flatbush/Midwood']\n",
    "print(flatbush_midwood.main_crimes)"
   ]
  },
  {
   "cell_type": "code",
   "execution_count": 229,
   "metadata": {},
   "outputs": [
    {
     "data": {
      "text/html": [
       "<div>\n",
       "<style scoped>\n",
       "    .dataframe tbody tr th:only-of-type {\n",
       "        vertical-align: middle;\n",
       "    }\n",
       "\n",
       "    .dataframe tbody tr th {\n",
       "        vertical-align: top;\n",
       "    }\n",
       "\n",
       "    .dataframe thead th {\n",
       "        text-align: right;\n",
       "    }\n",
       "</style>\n",
       "<table border=\"1\" class=\"dataframe\">\n",
       "  <thead>\n",
       "    <tr style=\"text-align: right;\">\n",
       "      <th></th>\n",
       "      <th>District_Code</th>\n",
       "      <th>main_crimes</th>\n",
       "      <th>total_crimes</th>\n",
       "      <th>District</th>\n",
       "      <th>individuals_below_FPL_median</th>\n",
       "      <th>individuals_below_FPL_mean</th>\n",
       "      <th>individuals_below_FPL_std</th>\n",
       "      <th>Employement_pop_ratio_median</th>\n",
       "      <th>Employement_pop_ratio_mean</th>\n",
       "      <th>Employement_pop_ratio_std</th>\n",
       "      <th>Crime_Rank</th>\n",
       "      <th>Employ_Rank</th>\n",
       "      <th>FPL_Rank</th>\n",
       "    </tr>\n",
       "  </thead>\n",
       "  <tbody>\n",
       "    <tr>\n",
       "      <th>69</th>\n",
       "      <td>503</td>\n",
       "      <td>{'Harassment': 18196, 'Vandalism': 13639, 'Minor Theft': 12690, 'Public Disturbance': 9612, 'Physical Assault': 8208}</td>\n",
       "      <td>81196</td>\n",
       "      <td>Tottenville</td>\n",
       "      <td>0.05979</td>\n",
       "      <td>0.059478</td>\n",
       "      <td>0.018678</td>\n",
       "      <td>0.577</td>\n",
       "      <td>0.578000</td>\n",
       "      <td>0.017414</td>\n",
       "      <td>53</td>\n",
       "      <td>27.0</td>\n",
       "      <td>1.0</td>\n",
       "    </tr>\n",
       "    <tr>\n",
       "      <th>38</th>\n",
       "      <td>311</td>\n",
       "      <td>{'Minor Theft': 20547, 'Harassment': 16141, 'Physical Assault': 13857, 'Major Theft': 12147, 'Vandalism': 11759}</td>\n",
       "      <td>97777</td>\n",
       "      <td>Bensonhurst</td>\n",
       "      <td>0.17883</td>\n",
       "      <td>0.177387</td>\n",
       "      <td>0.026733</td>\n",
       "      <td>0.547</td>\n",
       "      <td>0.545059</td>\n",
       "      <td>0.033257</td>\n",
       "      <td>48</td>\n",
       "      <td>42.0</td>\n",
       "      <td>30.0</td>\n",
       "    </tr>\n",
       "    <tr>\n",
       "      <th>13</th>\n",
       "      <td>201</td>\n",
       "      <td>{'Physical Assault': 37528, 'Minor Theft': 29666, 'Harassment': 29083, 'Drug Offenses': 24242, 'Vandalism': 19121}</td>\n",
       "      <td>196900</td>\n",
       "      <td>Mott Haven</td>\n",
       "      <td>0.41124</td>\n",
       "      <td>0.415122</td>\n",
       "      <td>0.044129</td>\n",
       "      <td>0.430</td>\n",
       "      <td>0.422416</td>\n",
       "      <td>0.047908</td>\n",
       "      <td>8</td>\n",
       "      <td>58.0</td>\n",
       "      <td>58.0</td>\n",
       "    </tr>\n",
       "  </tbody>\n",
       "</table>\n",
       "</div>"
      ],
      "text/plain": [
       "    District_Code  \\\n",
       "69            503   \n",
       "38            311   \n",
       "13            201   \n",
       "\n",
       "                                                                                                              main_crimes  \\\n",
       "69  {'Harassment': 18196, 'Vandalism': 13639, 'Minor Theft': 12690, 'Public Disturbance': 9612, 'Physical Assault': 8208}   \n",
       "38       {'Minor Theft': 20547, 'Harassment': 16141, 'Physical Assault': 13857, 'Major Theft': 12147, 'Vandalism': 11759}   \n",
       "13     {'Physical Assault': 37528, 'Minor Theft': 29666, 'Harassment': 29083, 'Drug Offenses': 24242, 'Vandalism': 19121}   \n",
       "\n",
       "    total_crimes     District  individuals_below_FPL_median  \\\n",
       "69         81196  Tottenville                       0.05979   \n",
       "38         97777  Bensonhurst                       0.17883   \n",
       "13        196900   Mott Haven                       0.41124   \n",
       "\n",
       "    individuals_below_FPL_mean  individuals_below_FPL_std  \\\n",
       "69                    0.059478                   0.018678   \n",
       "38                    0.177387                   0.026733   \n",
       "13                    0.415122                   0.044129   \n",
       "\n",
       "    Employement_pop_ratio_median  Employement_pop_ratio_mean  \\\n",
       "69                         0.577                    0.578000   \n",
       "38                         0.547                    0.545059   \n",
       "13                         0.430                    0.422416   \n",
       "\n",
       "    Employement_pop_ratio_std  Crime_Rank  Employ_Rank  FPL_Rank  \n",
       "69                   0.017414          53         27.0       1.0  \n",
       "38                   0.033257          48         42.0      30.0  \n",
       "13                   0.047908           8         58.0      58.0  "
      ]
     },
     "execution_count": 229,
     "metadata": {},
     "output_type": "execute_result"
    }
   ],
   "source": [
    "data_district_df[\"Employ_Rank\"] = data_district_df[\"Employ_Rank\"].replace(-1, np.nan)\n",
    "data_district_df[\"FPL_Rank\"] = data_district_df[\"FPL_Rank\"].replace(-1, np.nan)\n",
    "\n",
    "sorted_df = data_district_df.sort_values(by=\"FPL_Rank\", ascending=True)\n",
    "\n",
    "#drop nan\n",
    "sorted_df = sorted_df.dropna(subset=[\"Employ_Rank\", \"FPL_Rank\"])\n",
    "# Now get first, middle, last\n",
    "first = sorted_df.iloc[0]\n",
    "middle = sorted_df.iloc[len(sorted_df) // 2]\n",
    "last = sorted_df.iloc[-1]\n",
    "\n",
    "result_df = sorted_df.iloc[[0, len(sorted_df) // 2, -1]]\n",
    "result_df.head()"
   ]
  },
  {
   "cell_type": "code",
   "execution_count": 235,
   "metadata": {},
   "outputs": [
    {
     "data": {
      "application/vnd.plotly.v1+json": {
       "config": {
        "plotlyServerURL": "https://plot.ly"
       },
       "data": [
        {
         "line": {
          "color": "rgb(86,133,203)",
          "width": 3
         },
         "marker": {
          "size": 7
         },
         "mode": "lines+markers",
         "name": "% Below FPL",
         "type": "scatter",
         "x": {
          "bdata": "1gfXB9gH2QfaB9sH3AfdB94H3wfgB+EH4gfjB+UH5gc=",
          "dtype": "i2"
         },
         "y": {
          "bdata": "MzMzMzNzNECF61G4HoUzQBSuR+F6VDNA9ihcj8K1M0CF61G4HgU1QFK4HoXrkTVAexSuR+H6NUBI4XoUroc1QLgehetRuDVAcT0K16OwNECPwvUoXI8zQNejcD0K1zJA9ihcj8L1MUBmZmZmZuYwQHE9CtejsDJA4XoUrkfhMkA=",
          "dtype": "f8"
         }
        },
        {
         "line": {
          "color": "rgb(173, 119, 204)",
          "width": 3
         },
         "marker": {
          "size": 7
         },
         "mode": "lines+markers",
         "name": "% Employ./population",
         "type": "scatter",
         "x": {
          "bdata": "1gfXB9gH2QfaB9sH3AfdB94H3wfgB+EH4gfjB+UH5gc=",
          "dtype": "i2"
         },
         "y": {
          "bdata": "UrgehetRTEDhehSuR6FMQOF6FK5HIU1AH4XrUbg+TEApXI/C9ahLQK5H4XoUzktAexSuR+E6TEDhehSuR4FMQI/C9Shcz0xAAAAAAABgTUA9CtejcJ1NQI/C9Shcr01AUrgehevRTUDsUbgehStOQArXo3A9qklA4XoUrkdhTUA=",
          "dtype": "f8"
         }
        }
       ],
       "layout": {
        "height": 400,
        "hovermode": "x unified",
        "legend": {
         "font": {
          "size": 12
         }
        },
        "margin": {
         "b": 40,
         "l": 50,
         "r": 30,
         "t": 60
        },
        "template": {
         "data": {
          "bar": [
           {
            "error_x": {
             "color": "rgb(36,36,36)"
            },
            "error_y": {
             "color": "rgb(36,36,36)"
            },
            "marker": {
             "line": {
              "color": "white",
              "width": 0.5
             },
             "pattern": {
              "fillmode": "overlay",
              "size": 10,
              "solidity": 0.2
             }
            },
            "type": "bar"
           }
          ],
          "barpolar": [
           {
            "marker": {
             "line": {
              "color": "white",
              "width": 0.5
             },
             "pattern": {
              "fillmode": "overlay",
              "size": 10,
              "solidity": 0.2
             }
            },
            "type": "barpolar"
           }
          ],
          "carpet": [
           {
            "aaxis": {
             "endlinecolor": "rgb(36,36,36)",
             "gridcolor": "white",
             "linecolor": "white",
             "minorgridcolor": "white",
             "startlinecolor": "rgb(36,36,36)"
            },
            "baxis": {
             "endlinecolor": "rgb(36,36,36)",
             "gridcolor": "white",
             "linecolor": "white",
             "minorgridcolor": "white",
             "startlinecolor": "rgb(36,36,36)"
            },
            "type": "carpet"
           }
          ],
          "choropleth": [
           {
            "colorbar": {
             "outlinewidth": 1,
             "tickcolor": "rgb(36,36,36)",
             "ticks": "outside"
            },
            "type": "choropleth"
           }
          ],
          "contour": [
           {
            "colorbar": {
             "outlinewidth": 1,
             "tickcolor": "rgb(36,36,36)",
             "ticks": "outside"
            },
            "colorscale": [
             [
              0,
              "#440154"
             ],
             [
              0.1111111111111111,
              "#482878"
             ],
             [
              0.2222222222222222,
              "#3e4989"
             ],
             [
              0.3333333333333333,
              "#31688e"
             ],
             [
              0.4444444444444444,
              "#26828e"
             ],
             [
              0.5555555555555556,
              "#1f9e89"
             ],
             [
              0.6666666666666666,
              "#35b779"
             ],
             [
              0.7777777777777778,
              "#6ece58"
             ],
             [
              0.8888888888888888,
              "#b5de2b"
             ],
             [
              1,
              "#fde725"
             ]
            ],
            "type": "contour"
           }
          ],
          "contourcarpet": [
           {
            "colorbar": {
             "outlinewidth": 1,
             "tickcolor": "rgb(36,36,36)",
             "ticks": "outside"
            },
            "type": "contourcarpet"
           }
          ],
          "heatmap": [
           {
            "colorbar": {
             "outlinewidth": 1,
             "tickcolor": "rgb(36,36,36)",
             "ticks": "outside"
            },
            "colorscale": [
             [
              0,
              "#440154"
             ],
             [
              0.1111111111111111,
              "#482878"
             ],
             [
              0.2222222222222222,
              "#3e4989"
             ],
             [
              0.3333333333333333,
              "#31688e"
             ],
             [
              0.4444444444444444,
              "#26828e"
             ],
             [
              0.5555555555555556,
              "#1f9e89"
             ],
             [
              0.6666666666666666,
              "#35b779"
             ],
             [
              0.7777777777777778,
              "#6ece58"
             ],
             [
              0.8888888888888888,
              "#b5de2b"
             ],
             [
              1,
              "#fde725"
             ]
            ],
            "type": "heatmap"
           }
          ],
          "histogram": [
           {
            "marker": {
             "line": {
              "color": "white",
              "width": 0.6
             }
            },
            "type": "histogram"
           }
          ],
          "histogram2d": [
           {
            "colorbar": {
             "outlinewidth": 1,
             "tickcolor": "rgb(36,36,36)",
             "ticks": "outside"
            },
            "colorscale": [
             [
              0,
              "#440154"
             ],
             [
              0.1111111111111111,
              "#482878"
             ],
             [
              0.2222222222222222,
              "#3e4989"
             ],
             [
              0.3333333333333333,
              "#31688e"
             ],
             [
              0.4444444444444444,
              "#26828e"
             ],
             [
              0.5555555555555556,
              "#1f9e89"
             ],
             [
              0.6666666666666666,
              "#35b779"
             ],
             [
              0.7777777777777778,
              "#6ece58"
             ],
             [
              0.8888888888888888,
              "#b5de2b"
             ],
             [
              1,
              "#fde725"
             ]
            ],
            "type": "histogram2d"
           }
          ],
          "histogram2dcontour": [
           {
            "colorbar": {
             "outlinewidth": 1,
             "tickcolor": "rgb(36,36,36)",
             "ticks": "outside"
            },
            "colorscale": [
             [
              0,
              "#440154"
             ],
             [
              0.1111111111111111,
              "#482878"
             ],
             [
              0.2222222222222222,
              "#3e4989"
             ],
             [
              0.3333333333333333,
              "#31688e"
             ],
             [
              0.4444444444444444,
              "#26828e"
             ],
             [
              0.5555555555555556,
              "#1f9e89"
             ],
             [
              0.6666666666666666,
              "#35b779"
             ],
             [
              0.7777777777777778,
              "#6ece58"
             ],
             [
              0.8888888888888888,
              "#b5de2b"
             ],
             [
              1,
              "#fde725"
             ]
            ],
            "type": "histogram2dcontour"
           }
          ],
          "mesh3d": [
           {
            "colorbar": {
             "outlinewidth": 1,
             "tickcolor": "rgb(36,36,36)",
             "ticks": "outside"
            },
            "type": "mesh3d"
           }
          ],
          "parcoords": [
           {
            "line": {
             "colorbar": {
              "outlinewidth": 1,
              "tickcolor": "rgb(36,36,36)",
              "ticks": "outside"
             }
            },
            "type": "parcoords"
           }
          ],
          "pie": [
           {
            "automargin": true,
            "type": "pie"
           }
          ],
          "scatter": [
           {
            "fillpattern": {
             "fillmode": "overlay",
             "size": 10,
             "solidity": 0.2
            },
            "type": "scatter"
           }
          ],
          "scatter3d": [
           {
            "line": {
             "colorbar": {
              "outlinewidth": 1,
              "tickcolor": "rgb(36,36,36)",
              "ticks": "outside"
             }
            },
            "marker": {
             "colorbar": {
              "outlinewidth": 1,
              "tickcolor": "rgb(36,36,36)",
              "ticks": "outside"
             }
            },
            "type": "scatter3d"
           }
          ],
          "scattercarpet": [
           {
            "marker": {
             "colorbar": {
              "outlinewidth": 1,
              "tickcolor": "rgb(36,36,36)",
              "ticks": "outside"
             }
            },
            "type": "scattercarpet"
           }
          ],
          "scattergeo": [
           {
            "marker": {
             "colorbar": {
              "outlinewidth": 1,
              "tickcolor": "rgb(36,36,36)",
              "ticks": "outside"
             }
            },
            "type": "scattergeo"
           }
          ],
          "scattergl": [
           {
            "marker": {
             "colorbar": {
              "outlinewidth": 1,
              "tickcolor": "rgb(36,36,36)",
              "ticks": "outside"
             }
            },
            "type": "scattergl"
           }
          ],
          "scattermap": [
           {
            "marker": {
             "colorbar": {
              "outlinewidth": 1,
              "tickcolor": "rgb(36,36,36)",
              "ticks": "outside"
             }
            },
            "type": "scattermap"
           }
          ],
          "scattermapbox": [
           {
            "marker": {
             "colorbar": {
              "outlinewidth": 1,
              "tickcolor": "rgb(36,36,36)",
              "ticks": "outside"
             }
            },
            "type": "scattermapbox"
           }
          ],
          "scatterpolar": [
           {
            "marker": {
             "colorbar": {
              "outlinewidth": 1,
              "tickcolor": "rgb(36,36,36)",
              "ticks": "outside"
             }
            },
            "type": "scatterpolar"
           }
          ],
          "scatterpolargl": [
           {
            "marker": {
             "colorbar": {
              "outlinewidth": 1,
              "tickcolor": "rgb(36,36,36)",
              "ticks": "outside"
             }
            },
            "type": "scatterpolargl"
           }
          ],
          "scatterternary": [
           {
            "marker": {
             "colorbar": {
              "outlinewidth": 1,
              "tickcolor": "rgb(36,36,36)",
              "ticks": "outside"
             }
            },
            "type": "scatterternary"
           }
          ],
          "surface": [
           {
            "colorbar": {
             "outlinewidth": 1,
             "tickcolor": "rgb(36,36,36)",
             "ticks": "outside"
            },
            "colorscale": [
             [
              0,
              "#440154"
             ],
             [
              0.1111111111111111,
              "#482878"
             ],
             [
              0.2222222222222222,
              "#3e4989"
             ],
             [
              0.3333333333333333,
              "#31688e"
             ],
             [
              0.4444444444444444,
              "#26828e"
             ],
             [
              0.5555555555555556,
              "#1f9e89"
             ],
             [
              0.6666666666666666,
              "#35b779"
             ],
             [
              0.7777777777777778,
              "#6ece58"
             ],
             [
              0.8888888888888888,
              "#b5de2b"
             ],
             [
              1,
              "#fde725"
             ]
            ],
            "type": "surface"
           }
          ],
          "table": [
           {
            "cells": {
             "fill": {
              "color": "rgb(237,237,237)"
             },
             "line": {
              "color": "white"
             }
            },
            "header": {
             "fill": {
              "color": "rgb(217,217,217)"
             },
             "line": {
              "color": "white"
             }
            },
            "type": "table"
           }
          ]
         },
         "layout": {
          "annotationdefaults": {
           "arrowhead": 0,
           "arrowwidth": 1
          },
          "autotypenumbers": "strict",
          "coloraxis": {
           "colorbar": {
            "outlinewidth": 1,
            "tickcolor": "rgb(36,36,36)",
            "ticks": "outside"
           }
          },
          "colorscale": {
           "diverging": [
            [
             0,
             "rgb(103,0,31)"
            ],
            [
             0.1,
             "rgb(178,24,43)"
            ],
            [
             0.2,
             "rgb(214,96,77)"
            ],
            [
             0.3,
             "rgb(244,165,130)"
            ],
            [
             0.4,
             "rgb(253,219,199)"
            ],
            [
             0.5,
             "rgb(247,247,247)"
            ],
            [
             0.6,
             "rgb(209,229,240)"
            ],
            [
             0.7,
             "rgb(146,197,222)"
            ],
            [
             0.8,
             "rgb(67,147,195)"
            ],
            [
             0.9,
             "rgb(33,102,172)"
            ],
            [
             1,
             "rgb(5,48,97)"
            ]
           ],
           "sequential": [
            [
             0,
             "#440154"
            ],
            [
             0.1111111111111111,
             "#482878"
            ],
            [
             0.2222222222222222,
             "#3e4989"
            ],
            [
             0.3333333333333333,
             "#31688e"
            ],
            [
             0.4444444444444444,
             "#26828e"
            ],
            [
             0.5555555555555556,
             "#1f9e89"
            ],
            [
             0.6666666666666666,
             "#35b779"
            ],
            [
             0.7777777777777778,
             "#6ece58"
            ],
            [
             0.8888888888888888,
             "#b5de2b"
            ],
            [
             1,
             "#fde725"
            ]
           ],
           "sequentialminus": [
            [
             0,
             "#440154"
            ],
            [
             0.1111111111111111,
             "#482878"
            ],
            [
             0.2222222222222222,
             "#3e4989"
            ],
            [
             0.3333333333333333,
             "#31688e"
            ],
            [
             0.4444444444444444,
             "#26828e"
            ],
            [
             0.5555555555555556,
             "#1f9e89"
            ],
            [
             0.6666666666666666,
             "#35b779"
            ],
            [
             0.7777777777777778,
             "#6ece58"
            ],
            [
             0.8888888888888888,
             "#b5de2b"
            ],
            [
             1,
             "#fde725"
            ]
           ]
          },
          "colorway": [
           "#1F77B4",
           "#FF7F0E",
           "#2CA02C",
           "#D62728",
           "#9467BD",
           "#8C564B",
           "#E377C2",
           "#7F7F7F",
           "#BCBD22",
           "#17BECF"
          ],
          "font": {
           "color": "rgb(36,36,36)"
          },
          "geo": {
           "bgcolor": "white",
           "lakecolor": "white",
           "landcolor": "white",
           "showlakes": true,
           "showland": true,
           "subunitcolor": "white"
          },
          "hoverlabel": {
           "align": "left"
          },
          "hovermode": "closest",
          "mapbox": {
           "style": "light"
          },
          "paper_bgcolor": "white",
          "plot_bgcolor": "white",
          "polar": {
           "angularaxis": {
            "gridcolor": "rgb(232,232,232)",
            "linecolor": "rgb(36,36,36)",
            "showgrid": false,
            "showline": true,
            "ticks": "outside"
           },
           "bgcolor": "white",
           "radialaxis": {
            "gridcolor": "rgb(232,232,232)",
            "linecolor": "rgb(36,36,36)",
            "showgrid": false,
            "showline": true,
            "ticks": "outside"
           }
          },
          "scene": {
           "xaxis": {
            "backgroundcolor": "white",
            "gridcolor": "rgb(232,232,232)",
            "gridwidth": 2,
            "linecolor": "rgb(36,36,36)",
            "showbackground": true,
            "showgrid": false,
            "showline": true,
            "ticks": "outside",
            "zeroline": false,
            "zerolinecolor": "rgb(36,36,36)"
           },
           "yaxis": {
            "backgroundcolor": "white",
            "gridcolor": "rgb(232,232,232)",
            "gridwidth": 2,
            "linecolor": "rgb(36,36,36)",
            "showbackground": true,
            "showgrid": false,
            "showline": true,
            "ticks": "outside",
            "zeroline": false,
            "zerolinecolor": "rgb(36,36,36)"
           },
           "zaxis": {
            "backgroundcolor": "white",
            "gridcolor": "rgb(232,232,232)",
            "gridwidth": 2,
            "linecolor": "rgb(36,36,36)",
            "showbackground": true,
            "showgrid": false,
            "showline": true,
            "ticks": "outside",
            "zeroline": false,
            "zerolinecolor": "rgb(36,36,36)"
           }
          },
          "shapedefaults": {
           "fillcolor": "black",
           "line": {
            "width": 0
           },
           "opacity": 0.3
          },
          "ternary": {
           "aaxis": {
            "gridcolor": "rgb(232,232,232)",
            "linecolor": "rgb(36,36,36)",
            "showgrid": false,
            "showline": true,
            "ticks": "outside"
           },
           "baxis": {
            "gridcolor": "rgb(232,232,232)",
            "linecolor": "rgb(36,36,36)",
            "showgrid": false,
            "showline": true,
            "ticks": "outside"
           },
           "bgcolor": "white",
           "caxis": {
            "gridcolor": "rgb(232,232,232)",
            "linecolor": "rgb(36,36,36)",
            "showgrid": false,
            "showline": true,
            "ticks": "outside"
           }
          },
          "title": {
           "x": 0.05
          },
          "xaxis": {
           "automargin": true,
           "gridcolor": "rgb(232,232,232)",
           "linecolor": "rgb(36,36,36)",
           "showgrid": false,
           "showline": true,
           "ticks": "outside",
           "title": {
            "standoff": 15
           },
           "zeroline": false,
           "zerolinecolor": "rgb(36,36,36)"
          },
          "yaxis": {
           "automargin": true,
           "gridcolor": "rgb(232,232,232)",
           "linecolor": "rgb(36,36,36)",
           "showgrid": false,
           "showline": true,
           "ticks": "outside",
           "title": {
            "standoff": 15
           },
           "zeroline": false,
           "zerolinecolor": "rgb(36,36,36)"
          }
         }
        },
        "title": {
         "font": {
          "size": 20
         },
         "text": "Socio-Economic Indicators Over Time"
        },
        "width": 700,
        "xaxis": {
         "title": {
          "text": "Year"
         }
        },
        "yaxis": {
         "title": {
          "text": "Percentage (%)"
         }
        }
       }
      }
     },
     "metadata": {},
     "output_type": "display_data"
    }
   ],
   "source": [
    "import plotly.graph_objects as go\n",
    "import pandas as pd\n",
    "\n",
    "# Prepare data\n",
    "avg_fpl_by_year = df_eco.groupby('Year')['individuals_below_FPL'].mean().reset_index()\n",
    "avg_fpl_by_year = avg_fpl_by_year.query(\"Year >= 2006\")\n",
    "avg_fpl_by_year['% Below FPL'] = avg_fpl_by_year['individuals_below_FPL'] * 100\n",
    "\n",
    "emp_by_year = df_eco.groupby('Year')['Employement_pop_ratio'].mean().reset_index()\n",
    "emp_by_year = emp_by_year.query(\"Year >= 2006\")\n",
    "emp_by_year['Employement_pop_ratio'] = emp_by_year['Employement_pop_ratio'] * 100\n",
    "\n",
    "#round to 2 decimals\n",
    "avg_fpl_by_year['% Below FPL'] = avg_fpl_by_year['% Below FPL'].round(2)\n",
    "emp_by_year['Employement_pop_ratio'] = emp_by_year['Employement_pop_ratio'].round(2)\n",
    "\n",
    "# Create figure\n",
    "fig = go.Figure()\n",
    "\n",
    "# Add FPL line\n",
    "fig.add_trace(go.Scatter(\n",
    "    x=avg_fpl_by_year['Year'],\n",
    "    y=avg_fpl_by_year['% Below FPL'],\n",
    "    mode='lines+markers',\n",
    "    name='% Below FPL',\n",
    "    marker=dict(size=7),\n",
    "    line=dict(color='rgb(86,133,203)', width=3)\n",
    "))\n",
    "\n",
    "# Add Unemployment line\n",
    "fig.add_trace(go.Scatter(\n",
    "    x=emp_by_year['Year'],\n",
    "    y=emp_by_year['Employement_pop_ratio'],\n",
    "    mode='lines+markers',\n",
    "    name='% Employ./population',\n",
    "    marker=dict(size=7),\n",
    "    line=dict(color='rgb(173, 119, 204)', width=3)\n",
    "))\n",
    "\n",
    "fig.update_layout(\n",
    "    title='Socio-Economic Indicators Over Time',\n",
    "    xaxis_title='Year',\n",
    "    yaxis_title='Percentage (%)',\n",
    "    template='simple_white',\n",
    "    hovermode='x unified',\n",
    "    title_font=dict(size=20),\n",
    "    legend=dict(font=dict(size=12)),\n",
    "    width=700,\n",
    "    height=400,\n",
    "    margin=dict(t=60, b=40, l=50, r=30)\n",
    ")\n",
    "\n",
    "fig.write_html(\"../images/fpl_vs_unemployment.html\")\n",
    "fig.show()"
   ]
  },
  {
   "cell_type": "code",
   "execution_count": 238,
   "metadata": {},
   "outputs": [
    {
     "name": "stdout",
     "output_type": "stream",
     "text": [
      "Pearson correlation has a coefficient of -0.353 with a p-value of 0.179.\n",
      "Spearman correlation has a coefficient of -0.556 with a p-value of 0.0254.\n"
     ]
    }
   ],
   "source": [
    "pearson = stats.pearsonr(avg_fpl_by_year['individuals_below_FPL'],emp_by_year['Employement_pop_ratio'])\n",
    "print(f\"Pearson correlation has a coefficient of {pearson[0]:.3} with a p-value of {pearson[1]:.3}.\")\n",
    "\n",
    "spearman = stats.spearmanr(avg_fpl_by_year['individuals_below_FPL'],emp_by_year['Employement_pop_ratio'])\n",
    "print(f\"Spearman correlation has a coefficient of {spearman[0]:.3} with a p-value of {spearman[1]:.3}.\")"
   ]
  },
  {
   "cell_type": "markdown",
   "metadata": {},
   "source": [
    "## Crime number (by type) Vs eco"
   ]
  },
  {
   "cell_type": "code",
   "execution_count": null,
   "metadata": {},
   "outputs": [
    {
     "data": {
      "text/html": [
       "<div>\n",
       "<style scoped>\n",
       "    .dataframe tbody tr th:only-of-type {\n",
       "        vertical-align: middle;\n",
       "    }\n",
       "\n",
       "    .dataframe tbody tr th {\n",
       "        vertical-align: top;\n",
       "    }\n",
       "\n",
       "    .dataframe thead th {\n",
       "        text-align: right;\n",
       "    }\n",
       "</style>\n",
       "<table border=\"1\" class=\"dataframe\">\n",
       "  <thead>\n",
       "    <tr style=\"text-align: right;\">\n",
       "      <th></th>\n",
       "      <th>District_Code</th>\n",
       "      <th>District</th>\n",
       "      <th>individuals_below_FPL_mean</th>\n",
       "      <th>individuals_below_FPL_std</th>\n",
       "      <th>Employement_pop_ratio_mean</th>\n",
       "      <th>Employement_pop_ratio_std</th>\n",
       "    </tr>\n",
       "  </thead>\n",
       "  <tbody>\n",
       "    <tr>\n",
       "      <th>0</th>\n",
       "      <td>101</td>\n",
       "      <td>Battery Park/Tribeca</td>\n",
       "      <td>0.082432</td>\n",
       "      <td>0.013163</td>\n",
       "      <td>0.695889</td>\n",
       "      <td>0.106929</td>\n",
       "    </tr>\n",
       "    <tr>\n",
       "      <th>1</th>\n",
       "      <td>102</td>\n",
       "      <td>Greenwich Village</td>\n",
       "      <td>0.082432</td>\n",
       "      <td>0.013163</td>\n",
       "      <td>0.703876</td>\n",
       "      <td>0.074474</td>\n",
       "    </tr>\n",
       "    <tr>\n",
       "      <th>2</th>\n",
       "      <td>103</td>\n",
       "      <td>Lower East Side</td>\n",
       "      <td>0.263308</td>\n",
       "      <td>0.024709</td>\n",
       "      <td>0.541882</td>\n",
       "      <td>0.016074</td>\n",
       "    </tr>\n",
       "    <tr>\n",
       "      <th>3</th>\n",
       "      <td>104</td>\n",
       "      <td>Chelsea/Clinton</td>\n",
       "      <td>0.130939</td>\n",
       "      <td>0.013761</td>\n",
       "      <td>0.690845</td>\n",
       "      <td>0.070434</td>\n",
       "    </tr>\n",
       "    <tr>\n",
       "      <th>4</th>\n",
       "      <td>105</td>\n",
       "      <td>Midtown Business District</td>\n",
       "      <td>0.127174</td>\n",
       "      <td>0.015678</td>\n",
       "      <td>0.677218</td>\n",
       "      <td>0.123798</td>\n",
       "    </tr>\n",
       "  </tbody>\n",
       "</table>\n",
       "</div>"
      ],
      "text/plain": [
       "   District_Code                   District  individuals_below_FPL_mean  \\\n",
       "0            101       Battery Park/Tribeca                    0.082432   \n",
       "1            102          Greenwich Village                    0.082432   \n",
       "2            103            Lower East Side                    0.263308   \n",
       "3            104            Chelsea/Clinton                    0.130939   \n",
       "4            105  Midtown Business District                    0.127174   \n",
       "\n",
       "   individuals_below_FPL_std  Employement_pop_ratio_mean  \\\n",
       "0                   0.013163                    0.695889   \n",
       "1                   0.013163                    0.703876   \n",
       "2                   0.024709                    0.541882   \n",
       "3                   0.013761                    0.690845   \n",
       "4                   0.015678                    0.677218   \n",
       "\n",
       "   Employement_pop_ratio_std  \n",
       "0                   0.106929  \n",
       "1                   0.074474  \n",
       "2                   0.016074  \n",
       "3                   0.070434  \n",
       "4                   0.123798  "
      ]
     },
     "execution_count": 39,
     "metadata": {},
     "output_type": "execute_result"
    }
   ],
   "source": [
    "df_eco_by_district = df_eco.groupby('District_Code').agg(\n",
    "                    District = ('District', 'first'),\n",
    "                    individuals_below_FPL_mean = ('individuals_below_FPL', 'mean'),\n",
    "                    individuals_below_FPL_std = ('individuals_below_FPL', 'std'),\n",
    "                    Employement_pop_ratio_mean = ('Employement_pop_ratio', 'mean'),\n",
    "                    Employement_pop_ratio_std = ('Employement_pop_ratio', 'std'),\n",
    ").reset_index()\n",
    "\n",
    "df_eco_by_district.head()"
   ]
  },
  {
   "cell_type": "code",
   "execution_count": null,
   "metadata": {},
   "outputs": [
    {
     "data": {
      "text/html": [
       "<div>\n",
       "<style scoped>\n",
       "    .dataframe tbody tr th:only-of-type {\n",
       "        vertical-align: middle;\n",
       "    }\n",
       "\n",
       "    .dataframe tbody tr th {\n",
       "        vertical-align: top;\n",
       "    }\n",
       "\n",
       "    .dataframe thead th {\n",
       "        text-align: right;\n",
       "    }\n",
       "</style>\n",
       "<table border=\"1\" class=\"dataframe\">\n",
       "  <thead>\n",
       "    <tr style=\"text-align: right;\">\n",
       "      <th></th>\n",
       "      <th>District_Code</th>\n",
       "      <th>District</th>\n",
       "      <th>individuals_below_FPL_mean</th>\n",
       "      <th>individuals_below_FPL_std</th>\n",
       "      <th>Employement_pop_ratio_mean</th>\n",
       "      <th>Employement_pop_ratio_std</th>\n",
       "      <th>OFNS_DESC</th>\n",
       "      <th>count</th>\n",
       "    </tr>\n",
       "  </thead>\n",
       "  <tbody>\n",
       "    <tr>\n",
       "      <th>0</th>\n",
       "      <td>101</td>\n",
       "      <td>Battery Park/Tribeca</td>\n",
       "      <td>0.082432</td>\n",
       "      <td>0.013163</td>\n",
       "      <td>0.695889</td>\n",
       "      <td>0.106929</td>\n",
       "      <td>Breaking &amp; Entering</td>\n",
       "      <td>2686</td>\n",
       "    </tr>\n",
       "    <tr>\n",
       "      <th>1</th>\n",
       "      <td>101</td>\n",
       "      <td>Battery Park/Tribeca</td>\n",
       "      <td>0.082432</td>\n",
       "      <td>0.013163</td>\n",
       "      <td>0.695889</td>\n",
       "      <td>0.106929</td>\n",
       "      <td>Child Abuse/Endangerment</td>\n",
       "      <td>8</td>\n",
       "    </tr>\n",
       "    <tr>\n",
       "      <th>2</th>\n",
       "      <td>101</td>\n",
       "      <td>Battery Park/Tribeca</td>\n",
       "      <td>0.082432</td>\n",
       "      <td>0.013163</td>\n",
       "      <td>0.695889</td>\n",
       "      <td>0.106929</td>\n",
       "      <td>Drug Offenses</td>\n",
       "      <td>1207</td>\n",
       "    </tr>\n",
       "    <tr>\n",
       "      <th>3</th>\n",
       "      <td>101</td>\n",
       "      <td>Battery Park/Tribeca</td>\n",
       "      <td>0.082432</td>\n",
       "      <td>0.013163</td>\n",
       "      <td>0.695889</td>\n",
       "      <td>0.106929</td>\n",
       "      <td>Fraud and Forgery</td>\n",
       "      <td>8374</td>\n",
       "    </tr>\n",
       "    <tr>\n",
       "      <th>4</th>\n",
       "      <td>101</td>\n",
       "      <td>Battery Park/Tribeca</td>\n",
       "      <td>0.082432</td>\n",
       "      <td>0.013163</td>\n",
       "      <td>0.695889</td>\n",
       "      <td>0.106929</td>\n",
       "      <td>Illegal Gambling</td>\n",
       "      <td>46</td>\n",
       "    </tr>\n",
       "  </tbody>\n",
       "</table>\n",
       "</div>"
      ],
      "text/plain": [
       "   District_Code              District  individuals_below_FPL_mean  \\\n",
       "0            101  Battery Park/Tribeca                    0.082432   \n",
       "1            101  Battery Park/Tribeca                    0.082432   \n",
       "2            101  Battery Park/Tribeca                    0.082432   \n",
       "3            101  Battery Park/Tribeca                    0.082432   \n",
       "4            101  Battery Park/Tribeca                    0.082432   \n",
       "\n",
       "   individuals_below_FPL_std  Employement_pop_ratio_mean  \\\n",
       "0                   0.013163                    0.695889   \n",
       "1                   0.013163                    0.695889   \n",
       "2                   0.013163                    0.695889   \n",
       "3                   0.013163                    0.695889   \n",
       "4                   0.013163                    0.695889   \n",
       "\n",
       "   Employement_pop_ratio_std                 OFNS_DESC  count  \n",
       "0                   0.106929       Breaking & Entering   2686  \n",
       "1                   0.106929  Child Abuse/Endangerment      8  \n",
       "2                   0.106929             Drug Offenses   1207  \n",
       "3                   0.106929         Fraud and Forgery   8374  \n",
       "4                   0.106929          Illegal Gambling     46  "
      ]
     },
     "execution_count": 40,
     "metadata": {},
     "output_type": "execute_result"
    }
   ],
   "source": [
    "crime_counts = df.groupby(['OFNS_DESC', 'District_Code']).size().reset_index(name='count')\n",
    "crime_counts.head(10)\n",
    "\n",
    "df_merged = pd.merge(df_eco_by_district, crime_counts, on='District_Code', how='left')\n",
    "df_merged.head()"
   ]
  },
  {
   "cell_type": "code",
   "execution_count": 242,
   "metadata": {},
   "outputs": [
    {
     "name": "stdout",
     "output_type": "stream",
     "text": [
      "=== Overall correlations ===\n",
      "                  variable  pearson_r  p_value  significant\n",
      "individuals_below_FPL_mean   0.085143 0.003478         True\n",
      "Employement_pop_ratio_mean  -0.030494 0.296092        False\n",
      "\n",
      "=== Per‐crime‐type correlations ===\n",
      "                    OFNS_DESC              econ_variable  pearson_r      p_value  significant\n",
      "                Drug Offenses individuals_below_FPL_mean   0.724223 9.007630e-11         True\n",
      "    Intentional property fire Employement_pop_ratio_mean  -0.657263 1.563877e-08         True\n",
      "    Intentional property fire individuals_below_FPL_mean   0.654366 1.898863e-08         True\n",
      "             Physical Assault individuals_below_FPL_mean   0.611080 2.743230e-07         True\n",
      "            Weapon Possession individuals_below_FPL_mean   0.600946 4.844139e-07         True\n",
      "                       Murder individuals_below_FPL_mean   0.570107 2.436334e-06         True\n",
      "        Prostitution Offenses individuals_below_FPL_mean   0.530647 1.537558e-05         True\n",
      "             Illegal Gambling individuals_below_FPL_mean   0.509599 6.036147e-05         True\n",
      "                Drug Offenses Employement_pop_ratio_mean  -0.493715 7.079866e-05         True\n",
      "                       Murder Employement_pop_ratio_mean  -0.477912 1.292133e-04         True\n",
      "                   Kidnapping individuals_below_FPL_mean   0.473400 1.526193e-04         True\n",
      "           Public Disturbance individuals_below_FPL_mean   0.470652 1.687093e-04         True\n",
      "            Weapon Possession Employement_pop_ratio_mean  -0.469410 1.764807e-04         True\n",
      "                         Rape individuals_below_FPL_mean   0.452455 3.626865e-04         True\n",
      "                  Major Theft Employement_pop_ratio_mean   0.444530 4.199294e-04         True\n",
      "             Physical Assault Employement_pop_ratio_mean  -0.440341 4.828289e-04         True\n",
      "        Prostitution Offenses Employement_pop_ratio_mean  -0.432785 6.182656e-04         True\n",
      "           Public Disturbance Employement_pop_ratio_mean  -0.405892 1.425119e-03         True\n",
      "                   Kidnapping Employement_pop_ratio_mean  -0.378868 3.085968e-03         True\n",
      "Verbal or Physical Harassment individuals_below_FPL_mean   0.371527 3.765455e-03         True\n",
      "                    Vandalism individuals_below_FPL_mean   0.353239 6.063872e-03         True\n",
      "                  Minor Theft Employement_pop_ratio_mean   0.352679 6.150497e-03         True\n",
      "          Breaking & Entering individuals_below_FPL_mean   0.350571 6.485931e-03         True\n",
      "                    Vandalism Employement_pop_ratio_mean  -0.346548 7.170868e-03         True\n",
      "Verbal or Physical Harassment Employement_pop_ratio_mean  -0.344150 7.608369e-03         True\n",
      "           Negligent Homicide individuals_below_FPL_mean   0.304605 1.899169e-02         True\n",
      "             Illegal Gambling Employement_pop_ratio_mean  -0.294142 2.777569e-02         True\n",
      "           Negligent Homicide Employement_pop_ratio_mean  -0.280120 3.164788e-02         True\n",
      "                         Rape Employement_pop_ratio_mean  -0.256781 5.168173e-02        False\n",
      "                  Major Theft individuals_below_FPL_mean  -0.220866 9.275542e-02        False\n",
      "            Fraud and Forgery Employement_pop_ratio_mean   0.217028 9.871736e-02        False\n",
      "   Stolen Property Possession individuals_below_FPL_mean   0.207446 1.149036e-01        False\n",
      "     Child Abuse/Endangerment individuals_below_FPL_mean   0.176867 1.802231e-01        False\n",
      "           Traffic Violations Employement_pop_ratio_mean  -0.163326 2.164554e-01        False\n",
      "           Traffic Violations individuals_below_FPL_mean   0.143258 2.790577e-01        False\n",
      "                  Minor Theft individuals_below_FPL_mean  -0.105973 4.243876e-01        False\n",
      "          Breaking & Entering Employement_pop_ratio_mean  -0.105155 4.279934e-01        False\n",
      "     Child Abuse/Endangerment Employement_pop_ratio_mean  -0.091237 4.919293e-01        False\n",
      "   Stolen Property Possession Employement_pop_ratio_mean   0.025236 8.495264e-01        False\n",
      "            Fraud and Forgery individuals_below_FPL_mean  -0.023400 8.603594e-01        False\n"
     ]
    }
   ],
   "source": [
    "import pandas as pd\n",
    "import numpy as np\n",
    "from scipy.stats import pearsonr\n",
    "\n",
    "econ_cols = ['individuals_below_FPL_mean', 'Employement_pop_ratio_mean']\n",
    "\n",
    "# 1) Overall correlations with p-values and significance flag\n",
    "overall = []\n",
    "for econ in econ_cols:\n",
    "    x = df_merged['count']\n",
    "    y = df_merged[econ]\n",
    "    mask = x.notna() & y.notna()\n",
    "    if mask.sum() >= 2:\n",
    "        r, p = pearsonr(x[mask], y[mask])\n",
    "    else:\n",
    "        r, p = np.nan, np.nan\n",
    "    overall.append({\n",
    "        'variable': econ,\n",
    "        'pearson_r': r,\n",
    "        'p_value': p,\n",
    "        'significant': (p < 0.05)\n",
    "    })\n",
    "\n",
    "overall_df = pd.DataFrame(overall).sort_values(\n",
    "    by=['significant', 'pearson_r'], ascending=[False, False]\n",
    ").reset_index(drop=True)\n",
    "\n",
    "print(\"=== Overall correlations ===\")\n",
    "print(overall_df.to_string(index=False))\n",
    "\n",
    "\n",
    "# 2) Per-crime-type correlations with p-values and significance flag\n",
    "records = []\n",
    "for crime, grp in df_merged.groupby('OFNS_DESC', sort=False):\n",
    "    for econ in econ_cols:\n",
    "        x = grp['count']\n",
    "        y = grp[econ]\n",
    "        mask = x.notna() & y.notna()\n",
    "        if mask.sum() >= 2:\n",
    "            r, p = pearsonr(x[mask], y[mask])\n",
    "        else:\n",
    "            r, p = np.nan, np.nan\n",
    "        records.append({\n",
    "            'OFNS_DESC': crime,\n",
    "            'econ_variable': econ,\n",
    "            'pearson_r': r,\n",
    "            'p_value': p,\n",
    "            'significant': (p < 0.05)\n",
    "        })\n",
    "\n",
    "crime_corrs = pd.DataFrame(records)\n",
    "crime_corrs['abs_r'] = crime_corrs['pearson_r'].abs()\n",
    "\n",
    "# Sort: first significant correlations, then by descending |r|\n",
    "crime_corrs = crime_corrs.sort_values(\n",
    "    by=['significant', 'abs_r'],\n",
    "    ascending=[False, False]\n",
    ").drop(columns='abs_r').reset_index(drop=True)\n",
    "\n",
    "print(\"\\n=== Per‐crime‐type correlations ===\")\n",
    "print(crime_corrs.to_string(index=False))\n",
    "\n"
   ]
  },
  {
   "cell_type": "code",
   "execution_count": null,
   "metadata": {},
   "outputs": [
    {
     "data": {
      "image/png": "[encoded data removed]",
      "text/plain": [
       "<Figure size 2400x600 with 4 Axes>"
      ]
     },
     "metadata": {},
     "output_type": "display_data"
    }
   ],
   "source": [
    "import matplotlib.pyplot as plt\n",
    "import numpy as np\n",
    "from scipy.stats import pearsonr\n",
    "\n",
    "\n",
    "color_plot = \"#1f77b4\"  \n",
    "\n",
    "pairs = [\n",
    "    (\"Drug Offenses\", \"individuals_below_FPL_mean\"),\n",
    "    (\"Intentional property fire\", \"Employement_pop_ratio_mean\"),\n",
    "    (\"Weapon Possession\", \"individuals_below_FPL_mean\"),\n",
    "    (\"Murder\", \"individuals_below_FPL_mean\")\n",
    "]\n",
    "\n",
    "fig, axes = plt.subplots(1, 4, figsize=(24, 6))\n",
    "\n",
    "for ax, (crime, econ) in zip(axes, pairs):\n",
    "    grp = df_merged[df_merged[\"OFNS_DESC\"] == crime]\n",
    "    x = grp[econ]\n",
    "    y = grp[\"count\"]\n",
    "    \n",
    "    # Drop missing\n",
    "    mask = x.notna() & y.notna()\n",
    "    x = x[mask]\n",
    "    y = y[mask]\n",
    "    \n",
    "    # Compute Pearson r & p\n",
    "    r, p = pearsonr(x, y)\n",
    "    \n",
    "    # Scatter plot with custom color\n",
    "    ax.scatter(x, y, color=color_plot)\n",
    "    \n",
    "    # Regression line with pale red color\n",
    "    m, b = np.polyfit(x, y, 1)\n",
    "    x_line = np.array([x.min(), x.max()])\n",
    "    y_line = m * x_line + b\n",
    "    ax.plot(x_line, y_line, color=\"#cd8787\")  # pale red\n",
    "    \n",
    "    # Titles and labels\n",
    "    ax.set_title(f\"{crime}\\nr = {r:.2f}, p = {p:.2e}\", fontsize=14)\n",
    "    ax.title.set_fontsize(20)\n",
    "    ax.set_xlabel(econ.replace('_', ' ').title(), fontsize=20)\n",
    "    ax.set_ylabel(\"Crime Count\", fontsize=20)\n",
    "\n",
    "plt.tight_layout()\n",
    "plt.savefig(\"../images/correlation_plots.png\")\n",
    "plt.show()\n"
   ]
  }
 ],
 "metadata": {
  "kernelspec": {
   "display_name": "data_vis",
   "language": "python",
   "name": "python3"
  },
  "language_info": {
   "codemirror_mode": {
    "name": "ipython",
    "version": 3
   },
   "file_extension": ".py",
   "mimetype": "text/x-python",
   "name": "python",
   "nbconvert_exporter": "python",
   "pygments_lexer": "ipython3",
   "version": "3.9.21"
  }
 },
 "nbformat": 4,
 "nbformat_minor": 2
}
